{
 "cells": [
  {
   "cell_type": "markdown",
   "id": "5bb5aa05-c685-4a2f-a3f6-9e932f5389ee",
   "metadata": {},
   "source": [
    "# `hypothesis`"
   ]
  },
  {
   "cell_type": "code",
   "execution_count": 12,
   "id": "e2e38ba4-e45e-4e34-b36b-143180c90be9",
   "metadata": {},
   "outputs": [],
   "source": [
    " from scipy import stats\n",
    "import numpy as np"
   ]
  },
  {
   "cell_type": "markdown",
   "id": "4ea2364d-5b7d-4c20-ab4c-8404c3aa74f0",
   "metadata": {},
   "source": [
    "# one sample t-test"
   ]
  },
  {
   "cell_type": "markdown",
   "id": "f9c284f8-3f09-4e78-a8a3-1ccafc1a4b76",
   "metadata": {},
   "source": [
    "### prob 1:\n",
    "`  does the average test score of a class differ significantly from the national average score of 70  `"
   ]
  },
  {
   "cell_type": "code",
   "execution_count": 3,
   "id": "7078f21c-5f8c-4425-a9ef-f62ba50c9f31",
   "metadata": {},
   "outputs": [],
   "source": [
    "#sample space of students score\n",
    "test_score = np.array([78,74,69,80,83,73,68,72,77,82])"
   ]
  },
  {
   "cell_type": "code",
   "execution_count": 76,
   "id": "78fbe996-3693-4672-ba64-973c8f3d245f",
   "metadata": {},
   "outputs": [],
   "source": [
    "#to perform one sample t-test , \n",
    "t_stat,p_value= stats.ttest_1samp(test_score,70)"
   ]
  },
  {
   "cell_type": "code",
   "execution_count": 78,
   "id": "a37fbaf8-edbf-4242-9009-0bb872c32ab2",
   "metadata": {},
   "outputs": [
    {
     "name": "stdout",
     "output_type": "stream",
     "text": [
      "t_stat: 3.384456448906594\n",
      "p_value: 7.951168517443613e-22\n"
     ]
    }
   ],
   "source": [
    "print(\"t_stat:\",t_stat)\n",
    "print(\"p_value:\",p_val)"
   ]
  },
  {
   "cell_type": "code",
   "execution_count": 15,
   "id": "a482f31d-4bbc-4094-8428-f1d3870265e6",
   "metadata": {},
   "outputs": [
    {
     "name": "stdout",
     "output_type": "stream",
     "text": [
      "reject the null hypo : the cls avg is significantly different from 70\n"
     ]
    }
   ],
   "source": [
    "#interpretation\n",
    "if p_value < 0.05:\n",
    "    print(\"reject the null hypo : the cls avg is significantly different from 70\")\n",
    "else:\n",
    "    print(\"fail to reject the null hypo : the cls avg is not significantly different from 70\")"
   ]
  },
  {
   "cell_type": "markdown",
   "id": "46a7e4b5-48ad-400d-a2dd-701ba44eeaf7",
   "metadata": {},
   "source": [
    "#### Problem 2: Testing average daily sales of a product\n",
    "\n",
    "Hypothesis: The average daily sales of a product is 100 units.\n",
    "Sample Data: Daily sales over 14 days\n",
    "\n",
    "sales = np.array([98, 102, 100, 97, 103, 101, 99, 100, 101, 98, 104, 96, 102, 100])"
   ]
  },
  {
   "cell_type": "code",
   "execution_count": 24,
   "id": "37265f5d-3f5e-4f1e-9524-2a3551d59eec",
   "metadata": {},
   "outputs": [],
   "source": [
    "# given sample space\n",
    "d_sale=np.array([98,102,100,97,103,101,99,100,101,98,104,96,102,100])\n",
    "#Hypothesis: The average daily sales of a product is 100 units.\n",
    "claimed_mean=100\n",
    "#to calculate one sample t-test\n",
    "t_stat,p_val=stats.ttest_1samp(d_sale,100)"
   ]
  },
  {
   "cell_type": "code",
   "execution_count": 26,
   "id": "e7a9b1f4-4f3f-421e-b76a-0a9e73e0fffb",
   "metadata": {},
   "outputs": [
    {
     "name": "stdout",
     "output_type": "stream",
     "text": [
      "t_stat: 0.11606680227641673\n",
      "p_value: 0.9093734022930344\n"
     ]
    }
   ],
   "source": [
    "print(\"t_stat:\",t_stat)\n",
    "print(\"p_value:\",p_val)"
   ]
  },
  {
   "cell_type": "code",
   "execution_count": 28,
   "id": "1e32d8ed-6c79-492c-8f3e-a4ff820e06fb",
   "metadata": {},
   "outputs": [
    {
     "name": "stdout",
     "output_type": "stream",
     "text": [
      "reject the null hypo : the avg daily is significantly different from 100\n"
     ]
    }
   ],
   "source": [
    "#interpretation\n",
    "if p_value < 0.05:\n",
    "    print(\"reject the null hypo : the avg daily is significantly different from 100\")\n",
    "else:\n",
    "    print(\"fail to reject the null hypo : the avg daily is not significantly different from 100\")"
   ]
  },
  {
   "cell_type": "markdown",
   "id": "129d3b4a-35fc-4c72-9b62-06b178154a7c",
   "metadata": {},
   "source": [
    "#### Problem 3 :  Mean Customer Satisfaction Rating\n",
    "\n",
    "A company claims that the average customer satisfaction rating is 4.5 out of 5. Test this claim using a sample of customer satisfaction ratings.\n",
    "\n",
    "Sample data: customer satisfaction ratings (out of 5)\n",
    "\n",
    "satisfaction_ratings = [4.3, 4.6, 4.5, 4.4, 4.7, 4.8, 4.2, 4.5, 4.6, 4.3]"
   ]
  },
  {
   "cell_type": "code",
   "execution_count": 35,
   "id": "ec9ce3cc-4ec5-4585-8cc6-4478d316f60c",
   "metadata": {},
   "outputs": [],
   "source": [
    "#sample space\n",
    "s_rating=np.array([4.3,4.6,4.5,4.4,4.7,4.8,4.2,4.5,4.6,4.3])\n",
    "#A company claims that the average customer satisfaction rating is 4.5 out of 5\n",
    "claimed_mean=4.5\n",
    "#to calculate one sample t-test\n",
    "t_stat,p_val=stats.ttest_1samp(s_rating,4.5)"
   ]
  },
  {
   "cell_type": "code",
   "execution_count": 37,
   "id": "7ea4c4f1-d0fd-41b8-915e-fe3c0f8c63ff",
   "metadata": {},
   "outputs": [
    {
     "name": "stdout",
     "output_type": "stream",
     "text": [
      "t_stat: -0.16539535392598792\n",
      "p_value: 0.8722883630840366\n"
     ]
    }
   ],
   "source": [
    "print(\"t_stat:\",t_stat)\n",
    "print(\"p_value:\",p_val)"
   ]
  },
  {
   "cell_type": "code",
   "execution_count": 50,
   "id": "b5dc75fc-ddff-410d-819c-cccef6a1265b",
   "metadata": {},
   "outputs": [
    {
     "name": "stdout",
     "output_type": "stream",
     "text": [
      "reject the null hypo : the avg rating is significantly different from 4.5\n"
     ]
    }
   ],
   "source": [
    "#interpretation\n",
    "if p_value < 0.05:\n",
    "    print(\"reject the null hypo : the avg rating is significantly different from 4.5\")\n",
    "else:\n",
    "    print(\"fail to reject the null hypo : the avg rating is not significantly different from 4.5\")"
   ]
  },
  {
   "cell_type": "markdown",
   "id": "86b5a9b8-3bc2-4626-a9dd-07502ba13903",
   "metadata": {},
   "source": [
    "#### prb 4:Website Load Time\n",
    "The IT department states that the average load time of a webpage is 2.5 seconds. Verify this claim using a sample dataset of load times.\n",
    "\n",
    "Sample data: webpage load times in seconds\n",
    "\n",
    "load_times = [2.4, 2.6, 2.5, 2.7, 2.3, 2.4, 2.6, 2.5, 2.4, 2.7]"
   ]
  },
  {
   "cell_type": "code",
   "execution_count": 46,
   "id": "595b2bce-2698-4517-936f-91484c03fa42",
   "metadata": {},
   "outputs": [],
   "source": [
    "#sample space\n",
    "l_time=np.array([2.4,2.6,2.5,3.7,2.3,2.4,2.6,2.5,2.4,2.7])\n",
    "#IT department states that the average load time of a webpage is 2.5 seconds.\n",
    "claimed_mean=2.5\n",
    "#to calculate one sample t-test\n",
    "t_stat,p_val=stats.ttest_1samp(l_time,claimed_mean)"
   ]
  },
  {
   "cell_type": "code",
   "execution_count": 48,
   "id": "640a3b68-3b2d-44eb-8d45-4b878355dc27",
   "metadata": {},
   "outputs": [
    {
     "name": "stdout",
     "output_type": "stream",
     "text": [
      "t_stat: 0.8669214468630094\n",
      "p_value: 0.4085029635431019\n"
     ]
    }
   ],
   "source": [
    "print(\"t_stat:\",t_stat)\n",
    "print(\"p_value:\",p_val)"
   ]
  },
  {
   "cell_type": "code",
   "execution_count": 52,
   "id": "7f15bf8c-226c-46fa-a75a-226db72f658d",
   "metadata": {},
   "outputs": [
    {
     "name": "stdout",
     "output_type": "stream",
     "text": [
      "reject the null hypo : the avg timing is significantly different from 2.5\n"
     ]
    }
   ],
   "source": [
    "#interpretation\n",
    "if p_value < 0.05:\n",
    "    print(\"reject the null hypo : the avg timing is significantly different from 2.5\")\n",
    "else:\n",
    "    print(\"fail to reject the null hypo : the avg timing is not significantly different from 2.5\")"
   ]
  },
  {
   "cell_type": "markdown",
   "id": "eddab4b3-cb80-46d7-bb87-772f035c4b8c",
   "metadata": {},
   "source": [
    "#### prb 5"
   ]
  },
  {
   "cell_type": "markdown",
   "id": "1d9dcd1b-7a9f-40bd-8784-93afa9816424",
   "metadata": {},
   "source": [
    "Problem 5: Testing average weight of athletes\n",
    "\n",
    "\n",
    " Hypothesis: The average weight of athletes is 75 kg.\n",
    " Sample Data: Weights of 15 athletes (in kg)\n",
    "\n",
    "\n",
    "weights = np.array([74, 76, 75, 78, 73, 77, 74, 76, 72, 75, 78, 74, 73, 77, 76])"
   ]
  },
  {
   "cell_type": "code",
   "execution_count": 14,
   "id": "b2f4a823-d71b-4009-8a78-20a56f5b6a97",
   "metadata": {},
   "outputs": [
    {
     "name": "stdout",
     "output_type": "stream",
     "text": [
      "t_stat: 0.4165977904505369\n",
      "p_value: 0.6832893490976499\n"
     ]
    }
   ],
   "source": [
    "#sample space\n",
    "a_wt=np.array([74,76,75,78,73,77,74,76,72,75,78,74,73,77,76])\n",
    "#Hypothesis: The average weight of athletes is 75 kg\n",
    "claimed_mean = 75\n",
    "#to calculate one sample t test\n",
    "t_stat,p_val=stats.ttest_1samp(a_wt,claimed_mean)\n",
    "print(\"t_stat:\",t_stat)\n",
    "print(\"p_value:\",p_val)"
   ]
  },
  {
   "cell_type": "code",
   "execution_count": 57,
   "id": "19dc6033-633c-45d4-be23-72f54fc6d191",
   "metadata": {},
   "outputs": [
    {
     "name": "stdout",
     "output_type": "stream",
     "text": [
      "reject the null hypo : the avg wt is significantly different from 75\n"
     ]
    }
   ],
   "source": [
    "#interpretation\n",
    "if p_value < 0.05:\n",
    "    print(\"reject the null hypo : the avg wt is significantly different from 75\")\n",
    "else:\n",
    "    print(\"fail to reject the null hypo : the avg wt is not significantly different from 75\")"
   ]
  },
  {
   "cell_type": "markdown",
   "id": "9e88d816-7060-49c3-8264-4a2e80657ecb",
   "metadata": {},
   "source": [
    " # independent two sample t-test"
   ]
  },
  {
   "cell_type": "markdown",
   "id": "acd9d76e-c6bb-4296-9543-d9d35dbf60e8",
   "metadata": {},
   "source": [
    "`do the math scores of two independent groups of students differ significantly `"
   ]
  },
  {
   "cell_type": "code",
   "execution_count": 86,
   "id": "365baa36-f981-4053-ae0d-c9ff58eeac3d",
   "metadata": {},
   "outputs": [
    {
     "name": "stdout",
     "output_type": "stream",
     "text": [
      "t_statistic : 4.8097\n",
      "p_value : 0.00043\n"
     ]
    }
   ],
   "source": [
    "# given sample space of two groups\n",
    "grp1_score=np.array([82,76,79,85,88,90,83])\n",
    "grp2_score=np.array([72,74,70,65,68,75,77])\n",
    "#to calculate two independent sample t-test\n",
    "t_stat,p_val=stats.ttest_ind(grp1_score,grp2_score)\n",
    "print(\"t_statistic :\",round(t_stat,4))\n",
    "print(\"p_value :\",round(p_val,5))"
   ]
  },
  {
   "cell_type": "code",
   "execution_count": 90,
   "id": "2759bbc4-b6a2-4a9b-9d23-8278fc556066",
   "metadata": {},
   "outputs": [
    {
     "name": "stdout",
     "output_type": "stream",
     "text": [
      "reject the null hypo : the mean of the two groups is  significantly different from each other\n"
     ]
    }
   ],
   "source": [
    "#interpretation\n",
    "if p_value < 0.05:\n",
    "    print(\"reject the null hypo : the mean of the two groups is  significantly different from each other\")\n",
    "else:\n",
    "    print(\"fail to reject the null hypo : the mean of the two groups is not significantly different from each other\")"
   ]
  },
  {
   "cell_type": "markdown",
   "id": "d3c15bbc-354f-453b-b589-3522d46e60e9",
   "metadata": {},
   "source": [
    "#### prob 2:Comparing Customer Satisfaction Ratings Two different stores (Store X and Store Y) collected customer satisfaction ratings. We want to see if the satisfaction ratings are significantly different.\n",
    "\n",
    "Sample data: Customer satisfaction ratings (out of 10)\n",
    "\n",
    "store_x_ratings = [8, 9, 7, 8, 6, 9, 8, 7, 8, 9]\n",
    "store_y_ratings = [7, 8, 6, 6, 7, 7, 8, 6, 7, 7]"
   ]
  },
  {
   "cell_type": "code",
   "execution_count": 23,
   "id": "c3406481-041f-4bcb-a01c-c37f05a5c0aa",
   "metadata": {},
   "outputs": [
    {
     "name": "stdout",
     "output_type": "stream",
     "text": [
      "t_statistic : 2.5538\n",
      "p_value : 0.01994\n",
      "reject the null hypo : the mean of the two groups is  significantly different from each other\n"
     ]
    }
   ],
   "source": [
    "# given sample space two stores\n",
    "store_x_ratings = [8, 9, 7, 8, 6, 9, 8, 7, 8, 9] \n",
    "store_y_ratings = [7, 8, 6, 6, 7, 7, 8, 6, 7, 7]\n",
    "#to calculate two independent sample t-test\n",
    "t_stat,p_val=stats.ttest_ind(store_x_ratings,store_y_ratings)\n",
    "print(\"t_statistic :\",round(t_stat,4))\n",
    "print(\"p_value :\",round(p_val,5))\n",
    "#interpretation\n",
    "if p_val < 0.05:\n",
    "    print(\"reject the null hypo : the mean of the two groups is  significantly different from each other\")\n",
    "else:\n",
    "    print(\"fail to reject the null hypo : the mean of the two groups is not significantly different from each other\")\n"
   ]
  },
  {
   "cell_type": "markdown",
   "id": "25b9c7a3-3af6-4220-8617-555de897356a",
   "metadata": {},
   "source": [
    "#### prob 3:Comparing Reaction Times Between Two Age Groups Two groups of participants (under 30 and over 50) were tested for their reaction times to a stimulus. Determine if there is a significant difference between the two age groups.\n",
    "\n",
    "#Sample data: Reaction times in milliseconds\n",
    "\n",
    "under_30_times = [320, 310, 305, 315, 312, 318, 319, 314, 308, 311]\n",
    "\n",
    "over_50_times = [400, 395, 405, 410, 392, 398, 403, 402, 396, 399]"
   ]
  },
  {
   "cell_type": "code",
   "execution_count": 26,
   "id": "3ef45048-797d-417d-ba6d-719825a7101a",
   "metadata": {},
   "outputs": [
    {
     "name": "stdout",
     "output_type": "stream",
     "text": [
      "t_statistic : -38.1623\n",
      "p_value : 0.0\n",
      "reject the null hypo : the mean of the two groups is  significantly different from each other\n"
     ]
    }
   ],
   "source": [
    "# given sample space two stores\n",
    "under_30_times = [320, 310, 305, 315, 312, 318, 319, 314, 308, 311] \n",
    "over_50_times = [400, 395, 405, 410, 392, 398, 403, 402, 396, 399]\n",
    "#to calculate two independent sample t-test\n",
    "t_stat,p_val=stats.ttest_ind(under_30_times,over_50_times)\n",
    "print(\"t_statistic :\",round(t_stat,4))\n",
    "print(\"p_value :\",round(p_val,5))\n",
    "#interpretation\n",
    "if p_val < 0.05:\n",
    "    print(\"reject the null hypo : the mean of the two groups is  significantly different from each other\")\n",
    "else:\n",
    "    print(\"fail to reject the null hypo : the mean of the two groups is not significantly different from each other\")"
   ]
  },
  {
   "cell_type": "code",
   "execution_count": null,
   "id": "21fdd3ad-3cac-4426-9c4a-2ced6617d5e1",
   "metadata": {},
   "outputs": [],
   "source": []
  },
  {
   "cell_type": "code",
   "execution_count": null,
   "id": "71a4f590-1a25-4ddc-b0aa-a2a795ec60da",
   "metadata": {},
   "outputs": [],
   "source": []
  },
  {
   "cell_type": "code",
   "execution_count": null,
   "id": "79e6d872-536f-4530-a66c-306bd4888a02",
   "metadata": {},
   "outputs": [],
   "source": []
  },
  {
   "cell_type": "markdown",
   "id": "9e4539c3-e6e9-459e-9d7e-5d9bc887dd56",
   "metadata": {},
   "source": [
    "# paired t-test"
   ]
  },
  {
   "cell_type": "markdown",
   "id": "236cc480-cffb-4e1d-991a-9d7e50e30457",
   "metadata": {},
   "source": [
    "#### prob 1:does the average performance of students change before and after a training program"
   ]
  },
  {
   "cell_type": "code",
   "execution_count": 96,
   "id": "35bab94c-841a-4412-92d2-1dce02d2d0e8",
   "metadata": {},
   "outputs": [
    {
     "name": "stdout",
     "output_type": "stream",
     "text": [
      "t_statistic : -5.3318\n",
      "p_value : 0.00178\n",
      "reject the null hypo : there is  significantly difference from each other\n"
     ]
    }
   ],
   "source": [
    "#given sample space of two paired data\n",
    "before_training=np.array([65,70,68,74,72,71,69])\n",
    "after_training=np.array([78,75,80,79,77,76,82])\n",
    "# to calculate paired t test\n",
    "t_stat,p_val=stats.ttest_rel(before_training,after_training)\n",
    "print(\"t_statistic :\",round(t_stat,4))\n",
    "print(\"p_value :\",round(p_val,5))\n",
    "#interpretation\n",
    "if p_val < 0.05:\n",
    "    print(\"reject the null hypo : there is  significantly difference from each other\")\n",
    "else:\n",
    "    print(\"fail to reject the null hypo : there is no significant difference from each other\")"
   ]
  },
  {
   "cell_type": "markdown",
   "id": "a65731d6-6b87-4f90-acc2-6a26bf99b6a3",
   "metadata": {},
   "source": [
    "#### prb 2:Weight Loss Program Effectiveness\n",
    "\n",
    "Question: A fitness center wants to test the effectiveness of their new weight loss program. They recorded the weights of 10 participants before and after completing the program. Is there a significant weight change?\n",
    "\n",
    "Sample data (weights before and after)\n",
    "\n",
    "before_weights = [85, 90, 78, 88, 95, 102, 85, 91, 89, 100]\n",
    "\n",
    "after_weights = [80, 85, 74, 84, 90, 98, 81, 87, 86, 96]"
   ]
  },
  {
   "cell_type": "code",
   "execution_count": 100,
   "id": "0c0186fe-8026-4a24-ae02-cbcad69d3bfd",
   "metadata": {},
   "outputs": [
    {
     "name": "stdout",
     "output_type": "stream",
     "text": [
      "t_statistic : 21.0\n",
      "p_value : 5.901994059532877e-09\n",
      "reject the null hypo : there is  significantly difference from each other\n"
     ]
    }
   ],
   "source": [
    "#given sample space for two paired data\n",
    "before_wt=np.array([85,90,78,88,95,102,85,91,89,100])\n",
    "after_wt=np.array([80,85,74,84,90,98,81,87,86,96])\n",
    "#to calculate paired t-test\n",
    "t_stat,p_val=stats.ttest_rel(before_wt,after_wt)\n",
    "print(\"t_statistic :\",round(t_stat,4))\n",
    "print(\"p_value :\",p_val)\n",
    "#interpretation\n",
    "if p_value < 0.05:\n",
    "    print(\"reject the null hypo : there is  significantly difference from each other\")\n",
    "else:\n",
    "    print(\"fail to reject the null hypo : there is no significant difference from each other\")"
   ]
  },
  {
   "cell_type": "markdown",
   "id": "ade4a616-d686-4408-a4f2-85fafd5347d7",
   "metadata": {},
   "source": [
    "#### prb 3:Testing a New Diet Plan\n",
    "Question: A researcher is testing the effectiveness of a new diet plan by comparing the cholesterol levels of 20 participants before and after following the diet for 3 months. Does the diet significantly affect cholesterol levels?\n",
    "\n",
    "Sample data (cholesterol levels before and after)\n",
    "\n",
    "before_cholesterol = [210, 220, 195, 240, 230, 205, 215, 225, 210, 235, 245, 200, 220, 215, 190, 225, 230, 195, 215, 205]\n",
    "\n",
    "after_cholesterol = [190, 200, 185, 220, 210, 190, 200, 210, 195, 220, 230, 185, 200, 205, 175, 215, 220, 180, 200, 190]"
   ]
  },
  {
   "cell_type": "code",
   "execution_count": 107,
   "id": "c92fdd1a-5442-453a-bced-9675679f179d",
   "metadata": {},
   "outputs": [
    {
     "name": "stdout",
     "output_type": "stream",
     "text": [
      "t_statistic : 19.8738\n",
      "p_value : 3.573174201316975e-14\n",
      "reject the null hypo : there is  significantly difference from each other\n"
     ]
    }
   ],
   "source": [
    "#sample space of paired data\n",
    "before_c=np.array([210,220,195,240,230,205,215,225,210,235,245,200,220,215,190,225,230,195,215,205])\n",
    "after_c=np.array([190,200,185,220,210,190,200,210,195,220,230,185,200,205,175,215,220,180,200,190])\n",
    "# to calculate the paired t - test\n",
    "t_stat,p_val=stats.ttest_rel(before_c,after_c)\n",
    "print(\"t_statistic :\",round(t_stat,4))\n",
    "print(\"p_value :\",p_val)\n",
    "#interpretation\n",
    "if p_value < 0.05:\n",
    "    print(\"reject the null hypo : there is  significantly difference from each other\")\n",
    "else:\n",
    "    print(\"fail to reject the null hypo : there is no significant difference from each other\")"
   ]
  },
  {
   "cell_type": "markdown",
   "id": "a49af673-fc6a-4405-b493-1ae4601d22ee",
   "metadata": {},
   "source": [
    "#### prb 4:Effect of a Memory Enhancement Course\n",
    "Question: A psychologist wants to assess if a memory enhancement course improves participants' scores on a memory test. She measures their scores before and after the course. Is there a significant improvement?\n",
    "\n",
    "Sample data (memory test scores)\n",
    "\n",
    "before_scores = [12, 15, 14, 11, 10, 13, 16, 14, 15, 12]\n",
    "\n",
    "after_scores = [15, 18, 17, 14, 13, 15, 19, 17, 18, 15]"
   ]
  },
  {
   "cell_type": "code",
   "execution_count": 110,
   "id": "c9a0ca6d-f66f-4909-b3dd-0ca7bf0e36f4",
   "metadata": {},
   "outputs": [
    {
     "name": "stdout",
     "output_type": "stream",
     "text": [
      "t_statistic : -29.0\n",
      "p_value : 3.3602799026670967e-10\n",
      "reject the null hypo : there is  significantly difference from each other\n"
     ]
    }
   ],
   "source": [
    "#sample space of paired data\n",
    "before_me=np.array([12,15,14,11,10,13,16,14,15,12])\n",
    "after_me=np.array([15,18,17,14,13,15,19,17,18,15])\n",
    "#to calculate paired t-test\n",
    "t_stat,p_val=stats.ttest_rel(before_me,after_me)\n",
    "print(\"t_statistic :\",round(t_stat,4))\n",
    "print(\"p_value :\",p_val)\n",
    "#interpretation\n",
    "if p_value < 0.05:\n",
    "    print(\"reject the null hypo : there is  significantly difference from each other\")\n",
    "else:\n",
    "    print(\"fail to reject the null hypo : there is no significant difference from each other\")"
   ]
  },
  {
   "cell_type": "markdown",
   "id": "13254026-229f-477e-9530-f13ea6b02c2c",
   "metadata": {},
   "source": [
    "#### prb 5:Evaluating Productivity Before and After a Workshop\n",
    "Question: A manager wants to check if a recent productivity workshop has had an effect on employees' output. The number of units produced by employees is recorded before and after the workshop. Is there a significant difference?\n",
    "\n",
    "Sample data (productivity in units)\n",
    "\n",
    "before_output = [120, 125, 130, 110, 115, 140, 125, 130, 135, 120]\n",
    "\n",
    "after_output = [130, 135, 140, 120, 125, 145, 130, 135, 140, 130]"
   ]
  },
  {
   "cell_type": "code",
   "execution_count": 115,
   "id": "4b9198bb-d508-401f-9471-de0d7a5ca2d3",
   "metadata": {},
   "outputs": [
    {
     "name": "stdout",
     "output_type": "stream",
     "text": [
      "t_statistic : -9.798\n",
      "p_value : 4.239738886259835e-06\n",
      "reject the null hypo : there is  significantly difference from each other\n"
     ]
    }
   ],
   "source": [
    "#sample space of paired data\n",
    "before_pw=np.array([120,125,130,110,115,140,125,130,135,120])\n",
    "after_pw=np.array([130,135,140,120,125,145,130,135,140,130])\n",
    "#to calculate paired t-test\n",
    "t_stat,p_val=stats.ttest_rel(before_pw,after_pw)\n",
    "print(\"t_statistic :\",round(t_stat,4))\n",
    "print(\"p_value :\",p_val)\n",
    "#interpretation\n",
    "if p_value < 0.05:\n",
    "    print(\"reject the null hypo : there is  significantly difference from each other\")\n",
    "else:\n",
    "    print(\"fail to reject the null hypo : there is no significant difference from each other\")"
   ]
  },
  {
   "cell_type": "markdown",
   "id": "c2da6b5d-9bad-4b7c-aaa4-8dbf1de2a440",
   "metadata": {},
   "source": [
    "\n",
    "# one sample t-test for proportions"
   ]
  },
  {
   "cell_type": "markdown",
   "id": "6f051495-e2ae-45ac-bf7c-b0dc31437ffb",
   "metadata": {},
   "source": [
    "#### prob 1: doees the average proportion of defect rates in a factory batch differ significantly from the benchmak of 5%"
   ]
  },
  {
   "cell_type": "code",
   "execution_count": 8,
   "id": "9793f21e-d4e4-455d-bd2b-41bea0725de7",
   "metadata": {},
   "outputs": [],
   "source": [
    "# sample data defect rates as percentage\n",
    "defect_rate = np.array([4.5,5.2,5.1,4.8,5.5,4.9,5.0,4.7])\n",
    "#convert into proportions\n",
    "proportion=defect_rate/100\n",
    "#to perform one - sample t test\n",
    "t_stat,p_val=stats.ttest_1samp(proportion,0.05)"
   ]
  },
  {
   "cell_type": "code",
   "execution_count": 10,
   "id": "5e9ea50e-c471-46f4-9e7c-959f24e952d2",
   "metadata": {},
   "outputs": [
    {
     "name": "stdout",
     "output_type": "stream",
     "text": [
      "t_statistics: -0.34062016887952185\n",
      "p_value: 0.7433835895475498\n"
     ]
    }
   ],
   "source": [
    "print(\"t_statistics:\",t_stat)\n",
    "print(\"p_value:\",p_val)\n"
   ]
  },
  {
   "cell_type": "code",
   "execution_count": 14,
   "id": "dc4b09f0-93c7-4c0b-bd6b-d4ae93f8c2b1",
   "metadata": {},
   "outputs": [
    {
     "name": "stdout",
     "output_type": "stream",
     "text": [
      "fail to reject the null hypo : the defect rate is not significantly different from 5%\n"
     ]
    }
   ],
   "source": [
    "#interpretation\n",
    "if p_val < 0.05:\n",
    "    print(\"reject the null hypo : the defect rate is significantly different from 5%\")\n",
    "else:\n",
    "    print(\"fail to reject the null hypo : the defect rate is not significantly different from 5%\")"
   ]
  },
  {
   "cell_type": "markdown",
   "id": "626d900c-9a0c-42bc-a51e-a34f13fe90b5",
   "metadata": {},
   "source": [
    "# z-test"
   ]
  },
  {
   "cell_type": "code",
   "execution_count": 5,
   "id": "a18c4600-f41f-40ac-bc5e-d4c1b90e861f",
   "metadata": {},
   "outputs": [
    {
     "name": "stdout",
     "output_type": "stream",
     "text": [
      "Requirement already satisfied: statsmodels in d:\\hiran\\lib\\site-packages (0.14.2)\n",
      "Requirement already satisfied: numpy>=1.22.3 in d:\\hiran\\lib\\site-packages (from statsmodels) (1.26.4)\n",
      "Requirement already satisfied: scipy!=1.9.2,>=1.8 in d:\\hiran\\lib\\site-packages (from statsmodels) (1.13.1)\n",
      "Requirement already satisfied: pandas!=2.1.0,>=1.4 in d:\\hiran\\lib\\site-packages (from statsmodels) (2.2.2)\n",
      "Requirement already satisfied: patsy>=0.5.6 in d:\\hiran\\lib\\site-packages (from statsmodels) (0.5.6)\n",
      "Requirement already satisfied: packaging>=21.3 in d:\\hiran\\lib\\site-packages (from statsmodels) (23.2)\n",
      "Requirement already satisfied: python-dateutil>=2.8.2 in d:\\hiran\\lib\\site-packages (from pandas!=2.1.0,>=1.4->statsmodels) (2.9.0.post0)\n",
      "Requirement already satisfied: pytz>=2020.1 in d:\\hiran\\lib\\site-packages (from pandas!=2.1.0,>=1.4->statsmodels) (2024.1)\n",
      "Requirement already satisfied: tzdata>=2022.7 in d:\\hiran\\lib\\site-packages (from pandas!=2.1.0,>=1.4->statsmodels) (2023.3)\n",
      "Requirement already satisfied: six in d:\\hiran\\lib\\site-packages (from patsy>=0.5.6->statsmodels) (1.16.0)\n"
     ]
    }
   ],
   "source": [
    "!pip install statsmodels"
   ]
  },
  {
   "cell_type": "code",
   "execution_count": 5,
   "id": "b644caee-4cd4-4471-995b-7e26b7d4060c",
   "metadata": {},
   "outputs": [],
   "source": [
    "import statsmodels.api as sm"
   ]
  },
  {
   "cell_type": "markdown",
   "id": "dda0ff18-276c-4393-bc7d-2b0fbb21bdea",
   "metadata": {},
   "source": [
    "#### 1. Testing Voter Support for a Candidate\n",
    "\n",
    "\n",
    "Question: A political analyst claims that 60% of voters support a specific candidate. A random sample of 200 voters shows that 120 of them support the candidate. Is there enough evidence to refute the claim?"
   ]
  },
  {
   "cell_type": "code",
   "execution_count": 10,
   "id": "65e7960a-fe24-4f03-8ed3-e81327f5e791",
   "metadata": {},
   "outputs": [],
   "source": [
    "observed_proportion = 120/200"
   ]
  },
  {
   "cell_type": "code",
   "execution_count": 12,
   "id": "e387a0dd-c8a1-4d9f-bad0-3e7e787f8c78",
   "metadata": {},
   "outputs": [],
   "source": [
    "# given data\n",
    "h0=0.06\n",
    "n=200"
   ]
  },
  {
   "cell_type": "code",
   "execution_count": 14,
   "id": "85f79f52-c498-41bd-9f8e-bc7d47f0619f",
   "metadata": {},
   "outputs": [
    {
     "name": "stdout",
     "output_type": "stream",
     "text": [
      "t_statistics:15.588457268119896,p_value8.72143960487895e-55\n"
     ]
    }
   ],
   "source": [
    "#to perform z test \n",
    "ztest,p_val=sm.stats.proportions_ztest(120,n,h0)\n",
    "print(f\"t_statistics:{ztest},p_value{p_val}\")"
   ]
  },
  {
   "cell_type": "code",
   "execution_count": 16,
   "id": "48cc92be-1c2a-46ef-89d9-b139425a3d08",
   "metadata": {},
   "outputs": [
    {
     "name": "stdout",
     "output_type": "stream",
     "text": [
      "reject the null hypothesis\n"
     ]
    }
   ],
   "source": [
    "#interpration\n",
    "if p_val <0.05:\n",
    "    print(\"reject the null hypothesis\")\n",
    "else:\n",
    "    print(\"fail to reject the null hypothesis\")"
   ]
  },
  {
   "cell_type": "markdown",
   "id": "ec71efb1-4e41-4d8a-b557-c14ed30c96c4",
   "metadata": {},
   "source": [
    "#### prb 2: Employee Satisfaction Rate\n",
    "\n",
    "\n",
    "Question: A company claims that 80% of its employees are satisfied with their jobs. A survey of 150 employees shows that 110 are satisfied. Is this claim accurate?"
   ]
  },
  {
   "cell_type": "code",
   "execution_count": 19,
   "id": "9991c6bb-8eff-4f4d-b6da-d3a6a3133874",
   "metadata": {},
   "outputs": [],
   "source": [
    "#given datas\n",
    "ob_proportions=110/150\n",
    "h0=0.80\n",
    "n=150"
   ]
  },
  {
   "cell_type": "code",
   "execution_count": 21,
   "id": "ba67e142-7966-47ff-af89-67317b946e6d",
   "metadata": {},
   "outputs": [
    {
     "name": "stdout",
     "output_type": "stream",
     "text": [
      "t_statistics:-1.8463723646899934,p_value0.06483815699206606\n",
      "fail to reject the null hypothesis\n"
     ]
    }
   ],
   "source": [
    "#to perform z test\n",
    "ztest,p_val=sm.stats.proportions_ztest(110,n,h0)\n",
    "print(f\"t_statistics:{ztest},p_value{p_val}\")\n",
    "#interpretation\n",
    "if p_val <0.05:\n",
    "    print(\"reject the null hypothesis\")\n",
    "else:\n",
    "    print(\"fail to reject the null hypothesis\")"
   ]
  },
  {
   "cell_type": "markdown",
   "id": "611da3fd-9a07-4638-89fe-8a54d7d23f99",
   "metadata": {},
   "source": [
    "#### prb 3: Quality Check for a Product Line\n",
    "\n",
    "Question: A manufacturer claims that 95% of products pass quality checks. In a random sample of 300 products, 280 passed the checks. Is the claim valid?\n"
   ]
  },
  {
   "cell_type": "code",
   "execution_count": 25,
   "id": "dd024eb3-7032-46fb-98ae-b173ad6dc3e7",
   "metadata": {},
   "outputs": [],
   "source": [
    "#given data\n",
    "ob_proportions=280/300\n",
    "h0=0.95\n",
    "n=300"
   ]
  },
  {
   "cell_type": "code",
   "execution_count": 29,
   "id": "60efbb5b-5367-4619-98ae-f96104664536",
   "metadata": {},
   "outputs": [
    {
     "name": "stdout",
     "output_type": "stream",
     "text": [
      "t_statistics:-1.1572751247156854,p_value:round(0.24715997321190875, 3)\n",
      "fail to reject the null hypothesis\n"
     ]
    }
   ],
   "source": [
    "#to perform ztest\n",
    "ztest,p_val=sm.stats.proportions_ztest(280,n,h0)\n",
    "print(f\"t_statistics:{ztest},p_value:{p_val}\")\n",
    "#interpretation\n",
    "if p_val <0.05:\n",
    "    print(\"reject the null hypothesis\")\n",
    "else:\n",
    "    print(\"fail to reject the null hypothesis\")"
   ]
  },
  {
   "cell_type": "markdown",
   "id": "cb3b47ed-9065-4a30-a05a-516a60213dd4",
   "metadata": {},
   "source": [
    "#### prb 4: Website Conversion Rate\n",
    "\n",
    "\n",
    "Question: A website claims its conversion rate is 5%. Out of 500 website visits, 40 resulted in conversions. Does the data support this claim"
   ]
  },
  {
   "cell_type": "code",
   "execution_count": 32,
   "id": "0a79e5e7-99ef-4cc7-876b-d0fa560e6d10",
   "metadata": {},
   "outputs": [
    {
     "name": "stdout",
     "output_type": "stream",
     "text": [
      "t_statistics:4.246038878042234,p_value:2.1758289255506334e-05\n",
      "reject the null hypothesis\n"
     ]
    }
   ],
   "source": [
    "#given datas\n",
    "ob_proportions=40/500\n",
    "h0=0.05\n",
    "n=300\n",
    "#to perform ztest\n",
    "ztest,p_val=sm.stats.proportions_ztest(40,n,h0)\n",
    "print(f\"t_statistics:{ztest},p_value:{p_val}\")\n",
    "#interpretation\n",
    "if p_val <0.05:\n",
    "    print(\"reject the null hypothesis\")\n",
    "else:\n",
    "    print(\"fail to reject the null hypothesis\")"
   ]
  },
  {
   "cell_type": "markdown",
   "id": "6827660e-0a57-4a54-945b-219e9f3700e8",
   "metadata": {},
   "source": [
    "#### prb 5: Proportion of Customers Preferring a New Product\n",
    "\n",
    "Question: A company claims that 70% of customers prefer their new product. A survey of 400 customers finds that 250 prefer the product. Test the claim."
   ]
  },
  {
   "cell_type": "code",
   "execution_count": 37,
   "id": "e9113e8c-a791-4cfe-b5d6-e5aba0917c86",
   "metadata": {},
   "outputs": [
    {
     "name": "stdout",
     "output_type": "stream",
     "text": [
      "t_statistics:-3.098,p_value:0.002\n",
      "reject the null hypothesis\n"
     ]
    }
   ],
   "source": [
    "#given data\n",
    "ob_proportions=250/400\n",
    "h0=0.70\n",
    "n=400\n",
    "#to perform ztest\n",
    "ztest,p_val=sm.stats.proportions_ztest(250,n,h0)\n",
    "print(f\"t_statistics:{round(ztest,3)},p_value:{round(p_val,3)}\")\n",
    "#interpretation\n",
    "if p_val <0.05:\n",
    "    print(\"reject the null hypothesis\")\n",
    "else:\n",
    "    print(\"fail to reject the null hypothesis\")"
   ]
  },
  {
   "cell_type": "markdown",
   "id": "ea221bf0-8e0c-4f86-a6a3-96aa8071ce30",
   "metadata": {},
   "source": [
    "# welch's t-test\n",
    "### unequal variance\n",
    "are the average scores of two groups with unequal variance significatly different"
   ]
  },
  {
   "cell_type": "code",
   "execution_count": 47,
   "id": "2d78fb7e-88f1-46e3-ac76-1e878e3093c1",
   "metadata": {},
   "outputs": [
    {
     "name": "stdout",
     "output_type": "stream",
     "text": [
      "t_statistic : 4.9726\n",
      "p_value : 0.0006\n",
      "reject the null hypo : there is  significantly difference from each other\n"
     ]
    }
   ],
   "source": [
    "# given data on scores of two groups\n",
    "grp1_score=np.array([82,76,79,85,88,83])\n",
    "grp2_score=np.array([72,65,70,60,75,68])\n",
    "#to perform welch's t-test \n",
    "t_stat,p_val=stats.ttest_ind(grp1_score,grp2_score,equal_var=False)\n",
    "print(\"t_statistic :\",round(t_stat,4))\n",
    "print(\"p_value :\",round(p_val,4))\n",
    "#interpretation\n",
    "if p_val < 0.05:\n",
    "    print(\"reject the null hypo : there is  significantly difference from each other\")\n",
    "else:\n",
    "    print(\"fail to reject the null hypo : there is no significant difference from each other\")"
   ]
  },
  {
   "cell_type": "markdown",
   "id": "a1239bf9-26d1-4232-ac04-e2289ad5d3f5",
   "metadata": {},
   "source": [
    "# point estimation"
   ]
  },
  {
   "cell_type": "code",
   "execution_count": 81,
   "id": "14821bea-5c96-453b-9ffb-0f62796d6db1",
   "metadata": {},
   "outputs": [],
   "source": [
    "import random"
   ]
  },
  {
   "cell_type": "markdown",
   "id": "015815be-842e-4fa2-99da-a6a2cf5f2e43",
   "metadata": {},
   "source": [
    "#### consider the data of grade points for 20 students in a data science course. select grades of 10 students randomly from the data and find the point estimation for the population mean"
   ]
  },
  {
   "cell_type": "code",
   "execution_count": 58,
   "id": "3b527a1e-49cd-445f-8dbf-978ed31a7f16",
   "metadata": {},
   "outputs": [
    {
     "name": "stdout",
     "output_type": "stream",
     "text": [
      "the point estimate for the population mean is  72.36\n"
     ]
    }
   ],
   "source": [
    "# in sample space on grades of 20 students draw sample for 10 students without replacement\n",
    "grade=[59.1, 65.0, 75.8, 79.2, 95.8, 99.8, 89.1, 05.2, 41.9, 55.2, 94.8, 84.1, 83.3, 74.0, 75.5, 76.2, 79.1, 80.1, 92.1, 74.2, 59.2, 64.0, 75, 78.2, 95.6, 97.8, 89.5, 64.2, 41.6, 57.2, 85, 91.4, 81.8, 74.6, 90]\n",
    "#set a random seed to get the same sample each time you run the code\n",
    "random.seed(1)\n",
    "#pass the data to the parameter \"population\"\n",
    "#pass the required sample size to the parameter ,'k'\n",
    "samp_grades=random.sample(population=grade,k=20)\n",
    "# calculating the sample mean\n",
    "samp_mean=np.mean(samp_grades)\n",
    "print(\"the point estimate for the population mean is \",samp_mean)"
   ]
  },
  {
   "cell_type": "markdown",
   "id": "427444a7-7c8d-4822-88dd-f73ebcf35ced",
   "metadata": {},
   "source": [
    "#### prb 2:a financial firm has created 50 portfolios for them , sample of 13 portfolios was selected , out of which 8 were found to be underperforming portfolios?"
   ]
  },
  {
   "cell_type": "code",
   "execution_count": 63,
   "id": "87b0b56d-f4be-4935-96ab-ad9dc748bd91",
   "metadata": {},
   "outputs": [
    {
     "name": "stdout",
     "output_type": "stream",
     "text": [
      "the no. of underperforming portfolios : 31\n"
     ]
    }
   ],
   "source": [
    "#population\n",
    "N = 50\n",
    "#sample\n",
    "n = 13\n",
    "#no. of underperforming portfolios\n",
    "x = 8\n",
    "#sample proportions\n",
    "p_samp = x/n\n",
    "#to estimate the no. of underperforming portfolios\n",
    "num_port = p_samp*N\n",
    "print(\"the no. of underperforming portfolios :\",round(num_port))"
   ]
  },
  {
   "cell_type": "markdown",
   "id": "b408310e-caaf-422b-917f-9b317712e619",
   "metadata": {},
   "source": [
    "## sampling error"
   ]
  },
  {
   "cell_type": "markdown",
   "id": "65960291-d1a7-47c8-8a5c-f9d90a8b7884",
   "metadata": {},
   "source": [
    "1. Consider the data for the number of ice-creams sold per day. An ice-cream vendor collected this data for 90 days and then a sample is drawn (without replacement) containing ice-creams sold for 25 days.\n",
    "\n",
    "data = (21, 93, 62, 76, 73, 20, 56, 95, 41, 36, 38, 13, 80, 88, 34, 18, 40, 11, 25, 29, 61, 23, 82, 10, 92, 69, 60, 87, 14, 91, 94, 49, 57, 83, 96, 55, 79, 52, 59, 39, 58, 17, 19, 98, 15, 54, 48, 46, 72, 45, 65, 28, 37, 30, 68, 75, 16, 33, 31, 99, 22, 51, 27, 67, 85, 47, 44, 77, 64, 97, 84, 42, 90, 70, 74, 89, 32, 26, 24, 12, 81, 53, 50, 35, 71, 63, 43, 86, 78, 66]\n",
    "\n",
    "sample = (10, 22, 47, 66, 11, 57, 77, 98, 31, 63, 74, 84, 50, 96, 88, 92, 70, 54, 65, 44, 16, 72, 20, 90, 43]"
   ]
  },
  {
   "cell_type": "code",
   "execution_count": 69,
   "id": "b41707b6-878c-4009-ab72-efdf19342d05",
   "metadata": {},
   "outputs": [
    {
     "name": "stdout",
     "output_type": "stream",
     "text": [
      "sampleing error for mean : 3.1000000000000014\n"
     ]
    }
   ],
   "source": [
    "data = [21, 93, 62, 76, 73, 20, 56, 95, 41, 36, 38, 13, 80, 88, 34, 18, 40, 11, 25, 29, 61, 23, 82, 10, 92, 69, 60, 87, 14, 91, 94, 49, 57, 83, 96, 55, 79, 52, 59, 39, 58, 17, 19, 98, 15, 54, 48, 46, 72, 45, 65, 28, 37, 30, 68, 75, 16, 33, 31, 99, 22, 51, 27, 67, 85, 47, 44, 77, 64, 97, 84, 42, 90, 70, 74, 89, 32, 26, 24, 12, 81, 53, 50, 35, 71, 63, 43, 86, 78, 66]\n",
    "sample=[10,22,47,66,11,57,77,98,31,63,74,84,50,96,88,92,70,54,65,44,16,72,20,90,43]\n",
    "#given sample\n",
    "samp_mean= np.mean(sample)\n",
    "#calculate the point estimate for the population mean\n",
    "pop_mean=np.mean(data)\n",
    "# population mean\n",
    "print(\"sampleing error for mean :\",np.abs(samp_mean-pop_mean))\n",
    "# cal the sampling error for the mean"
   ]
  },
  {
   "cell_type": "markdown",
   "id": "f42c4b28-8199-4659-bf27-0cb34c7192f4",
   "metadata": {},
   "source": [
    "## large sample size"
   ]
  },
  {
   "cell_type": "markdown",
   "id": "f3c80151-4f82-4112-a4b5-e8be60c02d37",
   "metadata": {},
   "source": [
    "#### prob 1)a random sample of weight for 35 diabetic patients is drawn from the population with a std deviation of 8kg.\n",
    "find the 90% confidence interval for a population mean"
   ]
  },
  {
   "cell_type": "code",
   "execution_count": 79,
   "id": "990df0df-9152-4f16-9c27-dd5d0adff80c",
   "metadata": {},
   "outputs": [
    {
     "name": "stdout",
     "output_type": "stream",
     "text": [
      "the 90% confidence interval of population mean in  [74.51 78.96]\n"
     ]
    }
   ],
   "source": [
    "#Given sample\n",
    "\n",
    "weight=[59.1, 65.0, 75.8, 79.2, 95.8, 99.8, 89.1, 65.3, 41.9, 55.2, 94.8, 84.1, 83.2, 74.0, 75.5, 76.2, 79.1, 80.1, 92.1, 74.2, 59.2, 64.8, 75, 78.2, 95.6, 97.8, 89.5, 64.2, 41.8, 57.2, 85, 91.4, 81.8, 74.6, 90]\n",
    "\n",
    "#number of observations in sample\n",
    "\n",
    "n=len(weight)\n",
    "\n",
    "#given population standard deviation\n",
    "\n",
    "std_pop = 8\n",
    "\n",
    "#calculate the 90% confidence intervol\n",
    "\n",
    "#pass the sample mean to the parameter, 'Loc'\n",
    "\n",
    "#pass the scaling factor (std_pop/n^(1/2)) to the parameter, 'scale'\n",
    "\n",
    "interval= stats.norm.interval(0.90, loc= np.mean(weight), scale = std_pop/np.sqrt(n))\n",
    "\n",
    "#print the 90% confidence interval\n",
    "\n",
    "#use 'round()' to round-off the value to 2 digits\n",
    "print(\"the 90% confidence interval of population mean in \",np.round(interval,2))"
   ]
  },
  {
   "cell_type": "markdown",
   "id": "c3935334-bac8-4566-8f39-e1bf6afd5205",
   "metadata": {},
   "source": [
    "#### prob 2)There are 150 apples on a tree. You randomly choose 40 apples and found that the average weight of apples is 182 grams with a standard deviation of 30 grams. Find the 95% confidence interval for the population mean."
   ]
  },
  {
   "cell_type": "code",
   "execution_count": 91,
   "id": "1727f870-7d90-4ab2-a59f-5a1fce7c12c7",
   "metadata": {},
   "outputs": [
    {
     "name": "stdout",
     "output_type": "stream",
     "text": [
      "95% confidence Interval for population mean is [172.7 191.3]\n"
     ]
    }
   ],
   "source": [
    "#number of observations in the sample\n",
    "\n",
    "n=40\n",
    "\n",
    "#sample mean\n",
    "\n",
    "sample_avg= 182\n",
    "\n",
    "#sample standard deviation\n",
    "\n",
    "sample_std=30\n",
    "\n",
    "#calculate the 95% confidence interval\n",
    "\n",
    "#pass the sample mean to the parameter, 'Loc'\n",
    "\n",
    "#pass the scaling factor (sample std/n^(1/2)) to the parameter, 'scole'\n",
    "\n",
    "#as the population standard deviation is unknown, use the sample standard deviation\n",
    "\n",
    "interval=stats.norm.interval(0.95, loc=sample_avg, scale=sample_std/np.sqrt(n))\n",
    "\n",
    "print(\"95% confidence Interval for population mean is\",np.round(interval,2))"
   ]
  },
  {
   "cell_type": "markdown",
   "id": "80592ee8-0598-4179-9996-d7ef8cdcdac1",
   "metadata": {},
   "source": [
    "#### prob3) Average Height of Students\n",
    "\n",
    "Problem: A sample of 50 students has an average height of 170 cm with a standard deviation of 6 cm. Calculate the 95% confidence interval for the population mean."
   ]
  },
  {
   "cell_type": "code",
   "execution_count": 89,
   "id": "883cf483-e6b9-44ca-b22f-2d7e376ef4a1",
   "metadata": {},
   "outputs": [
    {
     "name": "stdout",
     "output_type": "stream",
     "text": [
      "95% confidence Interval for population mean is [168.34 171.66]\n"
     ]
    }
   ],
   "source": [
    "#number of observations in the sample\n",
    "\n",
    "n=50\n",
    "\n",
    "#sample mean\n",
    "\n",
    "sample_avg= 170\n",
    "\n",
    "#sample standard deviation\n",
    "\n",
    "sample_std=6\n",
    "\n",
    "#calculate the 95% confidence interval\n",
    "\n",
    "#pass the sample mean to the parameter, 'Loc'\n",
    "\n",
    "#pass the scaling factor (sample std/n^(1/2)) to the parameter, 'scole'\n",
    "\n",
    "#as the population standard deviation is unknown, use the sample standard deviation\n",
    "\n",
    "interval=stats.norm.interval(0.95, loc=sample_avg, scale=sample_std/np.sqrt(n))\n",
    "\n",
    "print(\"95% confidence Interval for population mean is\",np.round(interval,2))"
   ]
  },
  {
   "cell_type": "markdown",
   "id": "eceac127-305e-4c6e-9c74-8e8e97254120",
   "metadata": {},
   "source": [
    "#### prob4) Average Monthly Sales of a Product\n",
    "\n",
    "\n",
    "Problem: A company samples 40 monthly sales records and finds an average of 5,000  with  a standard deviation of  1,200. Find the 95% confidence interval for the population mean monthly sales."
   ]
  },
  {
   "cell_type": "code",
   "execution_count": 96,
   "id": "315247e3-4a6c-455b-bf80-84adc993f94c",
   "metadata": {},
   "outputs": [
    {
     "name": "stdout",
     "output_type": "stream",
     "text": [
      "95% confidence interval for the population mean is  [4628.12 5371.88]\n"
     ]
    }
   ],
   "source": [
    "# no. of sample observations\n",
    "n=40\n",
    "# mean of sample\n",
    "s_mean=5000\n",
    "#std-deviation\n",
    "s_std=1200\n",
    "# to calculate the mean of the population \n",
    "interval = stats.norm.interval(0.95,loc=s_mean,scale=s_std/np.sqrt(n))\n",
    "print(\"95% confidence interval for the population mean is \",np.round(interval,2))"
   ]
  },
  {
   "cell_type": "markdown",
   "id": "3a27fa22-847a-4cc2-86a8-b8431243e9cc",
   "metadata": {},
   "source": [
    "#### prob5)Mean Temperature of a City\n",
    "\n",
    "\n",
    "Problem: Meteorologists record the average daily temperature for 60 days in a city as 24°C with a standard deviation of 3°C. Calculate the 95% confidence interval for the population mean temperature."
   ]
  },
  {
   "cell_type": "code",
   "execution_count": 99,
   "id": "8fb003a3-9af5-4c6d-aa0e-c6bd2b6767e2",
   "metadata": {},
   "outputs": [
    {
     "name": "stdout",
     "output_type": "stream",
     "text": [
      "95% confidence interval for the population mean is  [23.24 24.76]\n"
     ]
    }
   ],
   "source": [
    "# no. of sample observations\n",
    "n=60\n",
    "# mean of sample\n",
    "s_mean=24\n",
    "#std-deviation\n",
    "s_std=3\n",
    "# to calculate the mean of the population \n",
    "interval = stats.norm.interval(0.95,loc=s_mean,scale=s_std/np.sqrt(n))\n",
    "print(\"95% confidence interval for the population mean is \",np.round(interval,2))"
   ]
  },
  {
   "cell_type": "markdown",
   "id": "24c5a1f8-cfb1-4cfa-9658-366ee2252dac",
   "metadata": {},
   "source": [
    "#### prob6) Average Time Spent on an App\n",
    "\n",
    "\n",
    "Problem: A survey shows that 100 users spend an average of 45 minutes per day on an app with a standard deviation of 8 minutes. Determine the 95% confidence interval for the population mean time spent."
   ]
  },
  {
   "cell_type": "code",
   "execution_count": 102,
   "id": "fada1646-6494-4bf8-9f2a-7de81234b9b4",
   "metadata": {},
   "outputs": [
    {
     "name": "stdout",
     "output_type": "stream",
     "text": [
      "95% confidence interval for the population mean is  [43.43 46.57]\n"
     ]
    }
   ],
   "source": [
    "# no. of sample observations\n",
    "n=100\n",
    "# mean of sample\n",
    "s_mean=45\n",
    "#std-deviation\n",
    "s_std=8\n",
    "# to calculate the mean of the population \n",
    "interval = stats.norm.interval(0.95,loc=s_mean,scale=s_std/np.sqrt(n))\n",
    "print(\"95% confidence interval for the population mean is \",np.round(interval,2))"
   ]
  },
  {
   "cell_type": "markdown",
   "id": "c5162d0e-a717-4d86-98c8-64b006fbd555",
   "metadata": {},
   "source": [
    "#### prob 7) Mean Weight of Packages\n",
    "\n",
    "\n",
    "Problem: A shipping company weighs 30 randomly selected packages and finds an average weight of 15.2 kg with a standard deviation of 2.1 kg. Compute the 95% confidence interval for the mean weight of all packages."
   ]
  },
  {
   "cell_type": "code",
   "execution_count": 105,
   "id": "e61f4002-434a-47ca-818c-b5fd91c28818",
   "metadata": {},
   "outputs": [
    {
     "name": "stdout",
     "output_type": "stream",
     "text": [
      "95% confidence interval for the population mean is  [14.45 15.95]\n"
     ]
    }
   ],
   "source": [
    "# no. of sample observations\n",
    "n=30\n",
    "# mean of sample\n",
    "s_mean=15.2\n",
    "#std-deviation\n",
    "s_std=2.1\n",
    "# to calculate the mean of the population \n",
    "interval = stats.norm.interval(0.95,loc=s_mean,scale=s_std/np.sqrt(n))\n",
    "print(\"95% confidence interval for the population mean is \",np.round(interval,2))"
   ]
  },
  {
   "cell_type": "markdown",
   "id": "e8a33588-0f04-427d-aaa1-cc92eaac5296",
   "metadata": {},
   "source": [
    "# one sample t-test"
   ]
  },
  {
   "cell_type": "markdown",
   "id": "dc7f4b27-1b08-4b48-94a4-7a49f84ac4fa",
   "metadata": {},
   "source": [
    "#### prob1. The company's annual quality report of machines states that a lathe machine works efficiently at most for 8 months on average after the servicing. The production manager claims that after the special tuxan servicing, the machine works efficiently for more than 8 months. To test the claim of production manager consider the hypothesis:"
   ]
  },
  {
   "cell_type": "code",
   "execution_count": 14,
   "id": "f4e838dc-ae7f-4c2c-9d40-edb85f6fc4b5",
   "metadata": {},
   "outputs": [
    {
     "name": "stdout",
     "output_type": "stream",
     "text": [
      "t_statistics : -2.517\n",
      "p_value: 0.04\n",
      "reject the null hypo : the machine efficiency is significantly different from 0.05\n"
     ]
    }
   ],
   "source": [
    "# machine efficiency\n",
    "month=np.array([2,4,3,6,5,10,7,8])\n",
    "# sample size < 30 , hence T-test\n",
    "# hence the critical value is not specified , we consider the default value of 0.05 . so , the confidence interval is 95%\n",
    "#ho<=specific value : h1>specific value , from this we know it is one tailed test - right tailed test\n",
    "t_stat,p_val=stats.ttest_1samp(month,8)\n",
    "print(\"t_statistics :\",round(t_stat,3))\n",
    "print(\"p_value:\",round(p_val,3))\n",
    "# interpretation \n",
    "if p_val < 0.05:\n",
    "    print(\"reject the null hypo : the machine efficiency is significantly different from 0.05\")\n",
    "else:\n",
    "    print(\"fail to reject the null hypo : the machine efficiency is not significantly different from 0.05\")\n"
   ]
  },
  {
   "cell_type": "markdown",
   "id": "b46200e8-d85a-48b0-ac02-d3a5d8c9d299",
   "metadata": {},
   "source": [
    "#### prob2. A railway authority claims that all the trains on the Chicago-Seattle route run with a speed of at least 56 mph on average. A customer forum declares that there are various records from passengers claiming that the speed of the train is less than what railway has claimed. In this scenario, a statistical test can be performed to test the claim of customer forum considering the hypothesis:\n",
    "\n",
    "Null Hypothesis: Speed >= 56 mph\n",
    "\n",
    "Alternative Hypothesis: Speed < 56 mph\n"
   ]
  },
  {
   "cell_type": "code",
   "execution_count": 17,
   "id": "98e51182-45e2-48da-901d-792a160d851b",
   "metadata": {},
   "outputs": [
    {
     "name": "stdout",
     "output_type": "stream",
     "text": [
      "t_statistics : 4.396\n",
      "p_value: 0.002\n",
      "reject the null hypo (h1): Chicago-Seattle route doesn't run with a speed of at least 56 mph on average\n"
     ]
    }
   ],
   "source": [
    "# train speed \n",
    "speed=np.array([54,65,70,59,90,80,70,66,76])\n",
    "# sample size < 30 , hence T-test\n",
    "# hence the critical value is not specified , we consider the default value of 0.05 . so , the confidence interval is 95%\n",
    "#ho>=specific value : h1<specific value , from this we know it is one tailed test - left tailed test\n",
    "t_stat,p_val=stats.ttest_1samp(speed,54)\n",
    "print(\"t_statistics :\",round(t_stat,3))\n",
    "print(\"p_value:\",round(p_val,3))\n",
    "# interpretation \n",
    "if p_val < 0.05:\n",
    "    print(\"reject the null hypo (h1): Chicago-Seattle route doesn't run with a speed of at least 56 mph on average\")\n",
    "else:\n",
    "    print(\"fail to reject the null hypo (h0) : Chicago-Seattle route run with a speed of at least 56 mph on average\")"
   ]
  },
  {
   "cell_type": "markdown",
   "id": "3b24bb84-5a5a-4a17-9c6a-0f8c7750cd0a",
   "metadata": {},
   "source": [
    "### another way"
   ]
  },
  {
   "cell_type": "code",
   "execution_count": 73,
   "id": "9b50e49c-6fb8-41be-b339-d7d402a826df",
   "metadata": {},
   "outputs": [],
   "source": [
    "def one_tail_ttest(data,mean,alpha=0.05):\n",
    "    from scipy import stats\n",
    "    t_statistic,p_value = stats.ttest_1samp(data,mean)\n",
    "\n",
    "    decision = \"reject ho\" if p_value<alpha else \"fail to reject ho\"\n",
    "    return t_statistic,p_value,decision"
   ]
  },
  {
   "cell_type": "code",
   "execution_count": null,
   "id": "a39291d5-a21f-48d0-96b3-d12293c57fd3",
   "metadata": {},
   "outputs": [],
   "source": []
  },
  {
   "cell_type": "markdown",
   "id": "063aed87-3613-45d7-957a-c001eb9339fd",
   "metadata": {},
   "source": [
    "#### 3. A housing authority claims that the average monthly rent for a 1-bedroom apartment in a city is $1,500. A sample of 25 tenants' rents is taken, and the following data is recorded (in dollars)\n",
    "\n",
    "\n",
    "rents = [1520, 1490, 1480, 1510, 1530, 1470, 1505, 1485, 1495, 1500,\n",
    "         1525, 1515, 1495, 1475, 1510, 1480, 1520, 1495, 1500, 1485,\n",
    "         1535, 1490, 1515, 1480, 1505, 1515, 1490]"
   ]
  },
  {
   "cell_type": "code",
   "execution_count": 33,
   "id": "55142be8-a7a9-41be-b83a-e675d57ddcba",
   "metadata": {},
   "outputs": [],
   "source": [
    "# monthly rent\n",
    "data=np.array([1520, 1490, 1480, 1510, 1530, 1470, 1505, 1485, 1495, 1500, 1525, 1515, 1495, 1475, 1510, 1480, 1520, 1495, 1500, 1485, 1535, 1490, 1515, 1480, 1505, 1515, 1490])\n",
    "mean=1500\n",
    "# population mean = 1500\n",
    "# sample size < 30 , hence T-test\n",
    "# hence the critical value is not specified , we consider the default value of 0.05 . so , the confidence interval is 95%\n",
    "def one_sample_ttest(data,mean,alpha=0.05):\n",
    "    from scipy import stats\n",
    "    t_statistic,p_value = stats.ttest_1samp(data,mean)\n",
    "\n",
    "    decision = \"reject the null hypo (h1):\" if p_value<alpha else \"fail to reject (ho)\"\n",
    "    return t_statistic,p_value,decision"
   ]
  },
  {
   "cell_type": "code",
   "execution_count": 35,
   "id": "9c9f9e9e-8018-4e37-be33-100f2f73d651",
   "metadata": {},
   "outputs": [
    {
     "data": {
      "text/plain": [
       "(0.16439898730538718, 0.8706884780268073, 'fail to reject (ho)')"
      ]
     },
     "execution_count": 35,
     "metadata": {},
     "output_type": "execute_result"
    }
   ],
   "source": [
    "one_sample_ttest(data,mean,alpha=0.05)"
   ]
  },
  {
   "cell_type": "markdown",
   "id": "c19a0e4f-aae1-404f-9369-bef2d576a79b",
   "metadata": {},
   "source": [
    "#### 2. Customer Satisfaction in a Retail Store\n",
    "A retail store claims that 90% of their customers are satisfied with their shopping experience. A survey is conducted with 120 customers, and the satisfaction scores (out of 100) are as follows\n",
    "\n",
    "satisfaction_scores = [92, 85, 88, 90, 91, 87, 86, 84, 93, 89,\n",
    "                       95, 92, 91, 88, 87, 90, 92, 85, 89, 93,\n",
    "                       94, 90, 88, 91, 93, 87, 89, 85, 88, 86,\n",
    "                       92, 90, 89, 92, 87, 91, 88, 92, 90, 85,\n",
    "                       93, 87, 91, 92, 89, 86, 94, 91, 88, 92,\n",
    "                       90, 91, 93, 90, 86, 87, 89, 91, 88, 92,\n",
    "                       90, 85, 94, 91, 92, 93, 88, 90, 91, 89]"
   ]
  },
  {
   "cell_type": "code",
   "execution_count": null,
   "id": "bc7f6a20-42a3-4150-976e-5bc1f0241998",
   "metadata": {},
   "outputs": [],
   "source": []
  },
  {
   "cell_type": "markdown",
   "id": "08941ec3-6315-42a0-9cd2-f813a8ca3d53",
   "metadata": {},
   "source": [
    "# z test two tail "
   ]
  },
  {
   "cell_type": "markdown",
   "id": "2adf681f-7929-40cb-b152-0aad5ffa1eb9",
   "metadata": {},
   "source": [
    "### A car manufacturing company claims that t the mileage of their new car is 25 kmph with a standard deviation of 2.5 kmph. A random sample of 45 cars was drawn and recorded their mileage e as per the standard procedure. From the sample, the mean mileage was seen to be 24 kmph. Is this evidence to claim that the mean mileage is different from 25kmph? (assume the normality of the data) Use a = 0.01."
   ]
  },
  {
   "cell_type": "markdown",
   "id": "2c9f111e-3444-4f9d-b495-530e6331e64d",
   "metadata": {},
   "source": [
    "##### calculating z - value"
   ]
  },
  {
   "cell_type": "code",
   "execution_count": 9,
   "id": "03410b00-fc0a-47de-ba9d-c19273f485e4",
   "metadata": {},
   "outputs": [
    {
     "name": "stdout",
     "output_type": "stream",
     "text": [
      "critical value for two-tailed z-test: 2.58\n"
     ]
    }
   ],
   "source": [
    "#car manufacturing \n",
    "# cal the z-value 99% for confidence level \n",
    "# use 'stats.norm.isf()',to find the z-value corresponding\n",
    "# to upper tail probability (q)\n",
    "# pass the value of 'alpha/2' to the parameter 'q' here alpha=0.01\n",
    "# use'round()' to round off the value to 2 digits\n",
    "\n",
    "z_val=np.abs(round(stats.norm.isf(q=0.01/2),2))\n",
    "print('critical value for two-tailed z-test:',z_val)\n",
    "\n",
    "# if z is less than -2.58 or greater than 2.58 then we reject the null hypo"
   ]
  },
  {
   "cell_type": "markdown",
   "id": "59e3930d-1316-4143-bfe8-ab2243070b4d",
   "metadata": {},
   "source": [
    "##### calculating z-score"
   ]
  },
  {
   "cell_type": "code",
   "execution_count": 11,
   "id": "24d7e368-1905-4620-a054-1575d6f536bf",
   "metadata": {},
   "outputs": [
    {
     "name": "stdout",
     "output_type": "stream",
     "text": [
      "z-score: -2.6832815729997477\n"
     ]
    }
   ],
   "source": [
    "# define a function to calculate the z-test statistic\n",
    "# pass the population mean,population std,sample size and sample mean as the function input\n",
    "\n",
    "def z_test(pop_mean,pop_std,n,samp_mean):\n",
    "    z_score=(samp_mean-pop_mean)/(pop_std/np.sqrt(n)) \n",
    "    # calculate the z-test statistic\n",
    "\n",
    "# return the z-test value\n",
    "    return z_score\n",
    "\n",
    "# given data \n",
    "n=45\n",
    "pop_mean=25\n",
    "pop_std=2.5\n",
    "samp_mean=24\n",
    "\n",
    "# calculate the statistic using the function 'z-test'\n",
    "\n",
    "z_score=z_test(pop_mean,pop_std,n,samp_mean)\n",
    "print('z-score:',z_score)\n"
   ]
  },
  {
   "cell_type": "markdown",
   "id": "b6b9e643-e868-4c27-a3bf-4b00dbc807b2",
   "metadata": {},
   "source": [
    "##### calculating p value"
   ]
  },
  {
   "cell_type": "code",
   "execution_count": 61,
   "id": "903452b2-89ac-4495-bbe9-4160056f1a10",
   "metadata": {},
   "outputs": [
    {
     "name": "stdout",
     "output_type": "stream",
     "text": [
      "p_value: 1.109428736177261\n"
     ]
    }
   ],
   "source": [
    "#calculate the corresponding p value for the test statistics\n",
    "#use cdf() to calculate p(Z<=z_score)\n",
    "\n",
    "p_value=stats.norm.cdf(z_score)\n",
    "\n",
    "#for a two_tailed test multiply the p value by 2\n",
    "\n",
    "req_p=p_value*2\n",
    "print('p_value:',req_p)"
   ]
  },
  {
   "cell_type": "markdown",
   "id": "518b3c46-183b-4f8d-a0aa-f7e36cd742da",
   "metadata": {},
   "source": [
    "##### calculating confidence interval"
   ]
  },
  {
   "cell_type": "code",
   "execution_count": 63,
   "id": "9e9b6b57-4e7e-421b-bc38-6f592cd6da38",
   "metadata": {},
   "outputs": [
    {
     "name": "stdout",
     "output_type": "stream",
     "text": [
      "confidence interval: (2.911388891226528, 3.0986111087734716)\n"
     ]
    }
   ],
   "source": [
    "#calculate the 99%confidence interval for the population mean\n",
    "#pass the sample mean to the parameter,'loc'\n",
    "#pass the scaling factor (pop_std/n^(1/2)) to the parameter ,'scale'\n",
    "\n",
    "print('confidence interval:',stats.norm.interval(.99,loc=samp_mean,scale=pop_std/np.sqrt(n)))"
   ]
  },
  {
   "cell_type": "markdown",
   "id": "538dd083-3354-47b8-8bcf-9c0c5c813a27",
   "metadata": {},
   "source": [
    "`here the z score is less than -2.58, p_value is less than .01, also the confidence interval do not contain the value in the null hypothesis(ie 25),thus we reject the null hypothesis and conclude that there is enough evidence to claim that the mean mileage is differnt from 25 kmph`"
   ]
  },
  {
   "cell_type": "markdown",
   "id": "a072d33e-d765-4151-8045-9bb9726a1376",
   "metadata": {},
   "source": [
    "#### The average calories in a slice bread of the brand 'Alphas' are 82 with a standard deviation of 15. An experiment is conducted to test the claim of the dietitians that the calories in a slice of bread are not as per the manufacturer's specification. A sample of 40 slices of bread is taken and the mean calories recorded are 95. Test the claim of dietitians with a value (significance level) as 0.05. (assume the normality of the data)."
   ]
  },
  {
   "cell_type": "code",
   "execution_count": 22,
   "id": "7068deca-534b-444c-864e-0916368ca9b6",
   "metadata": {},
   "outputs": [
    {
     "name": "stdout",
     "output_type": "stream",
     "text": [
      "40\n",
      "statistics:0.979\n",
      "p_value:0.661\n",
      "\n",
      "\n",
      "fail to reject the null hypo (h0) :the given value is normally distribution\n"
     ]
    }
   ],
   "source": [
    "# to cal the normality \n",
    "# shapiro test\n",
    "# given alpha is 0.05\n",
    "sample_d=[102.45, 92.93, 104.72, 117.85, 91.49, 91.49, 118.69, 106.51, 87.96, 103.14, \n",
    " 88.05, 88.01, 98.63, 66.30, 69.13, 86.57, 79.81, 99.71, 81.38, 73.82, \n",
    " 116.98, 91.61, 96.01, 73.63, 86.83, 96.66, 77.74, 100.64, 85.99, 90.62, \n",
    " 85.97, 122.78, 94.80, 79.13, 107.34, 76.69, 98.13, 65.60, 75.08, 97.95]\n",
    "n=len(sample_d)\n",
    "print(n)\n",
    "alpha=0.05\n",
    "stat,p_val=stats.shapiro(sample_d)\n",
    "print(f\"statistics:{round(stat,3)}\")\n",
    "print(f\"p_value:{round(p_val,3)}\")\n",
    "print('\\n')\n",
    "if p_val < 0.05:\n",
    "    print(\"reject the null hypo (h1): the given value is not normally distribution\")\n",
    "else:\n",
    "    print(\"fail to reject the null hypo (h0) :the given value is normally distribution\")"
   ]
  },
  {
   "cell_type": "code",
   "execution_count": 14,
   "id": "69111385-2191-4af1-8ba6-806a76283de3",
   "metadata": {},
   "outputs": [
    {
     "name": "stdout",
     "output_type": "stream",
     "text": [
      "critical value for two-tailed z-test: 1.96\n"
     ]
    }
   ],
   "source": [
    "# have to cal confidence level of 95%\n",
    "# have to find z-level correspondence of the upper tail(q)\n",
    "z_val=np.abs(round(stats.norm.isf(q=0.05/2),2))\n",
    "# q is taken as 0.05/2 as the given alpha value=0.05\n",
    "print('critical value for two-tailed z-test:',z_val)"
   ]
  },
  {
   "cell_type": "markdown",
   "id": "ee607708-93ea-4e75-ad3b-6e541300449c",
   "metadata": {},
   "source": [
    "`if z is less than -1.96 or greater than 1.96 ,then we reject the null hypothesis`"
   ]
  },
  {
   "cell_type": "code",
   "execution_count": 30,
   "id": "f511d85d-33cf-4f95-9ca2-16256c4da6cd",
   "metadata": {},
   "outputs": [
    {
     "name": "stdout",
     "output_type": "stream",
     "text": [
      "z-score: 5.4812812776251905\n"
     ]
    }
   ],
   "source": [
    "# z-test statistics & z-score\n",
    "# required values : no of sample,population mean , poppulation std deviation,sample mean\n",
    "# call the function z-test()\n",
    "def z_test(pop_mean,pop_std,n,samp_mean):\n",
    "    z_score=(samp_mean-pop_mean)/(pop_std/np.sqrt(n)) \n",
    "    # calculate the z-test statistic\n",
    "\n",
    "# return the z-test value\n",
    "    return z_score\n",
    "n=40\n",
    "pop_mean=82\n",
    "pop_std=15\n",
    "samp_mean=95\n",
    "\n",
    "z_score=z_test(pop_mean,pop_std,n,samp_mean)\n",
    "print('z-score:',z_score)\n"
   ]
  },
  {
   "cell_type": "code",
   "execution_count": 39,
   "id": "7a4e0007-57db-45aa-a847-1ecdc044cccf",
   "metadata": {},
   "outputs": [
    {
     "name": "stdout",
     "output_type": "stream",
     "text": [
      "p_val: 4.222565249683579e-08\n"
     ]
    }
   ],
   "source": [
    "# to cal the corresponding p_val for the test stat\n",
    "# use cdf to cal p(z<=zscore)\n",
    "p_val=stats.norm.cdf(-z_score)#try norm.sf(z_score) also gives the same val\n",
    "# for a 2 tail test multily the p_value by 2\n",
    "req_p=p_val*2\n",
    "print('p_val:',req_p)"
   ]
  },
  {
   "cell_type": "code",
   "execution_count": 44,
   "id": "7aa76a05-6c2c-4495-936e-63e485f16d21",
   "metadata": {},
   "outputs": [
    {
     "data": {
      "text/plain": [
       "True"
      ]
     },
     "execution_count": 44,
     "metadata": {},
     "output_type": "execute_result"
    }
   ],
   "source": [
    "4.222565249683579e-08<0.05"
   ]
  },
  {
   "cell_type": "code",
   "execution_count": 34,
   "id": "a3ead5ce-8897-481f-9148-9dda1564bf78",
   "metadata": {},
   "outputs": [
    {
     "name": "stdout",
     "output_type": "stream",
     "text": [
      "confidence interval: (90.35153725771579, 99.64846274228421)\n"
     ]
    }
   ],
   "source": [
    "#cal the 95% confidence interval for pop mean \n",
    "#pass the sample mean to te parameter , 'loc'\n",
    "# pass the scaling factor (pop_std/n^(1/2)) to the parameter,'scale'\n",
    "print(\"confidence interval:\",stats.norm.interval(0.95,loc=samp_mean,scale=pop_std/np.sqrt(n)))"
   ]
  },
  {
   "cell_type": "markdown",
   "id": "c3e1cd57-e539-4b9e-8cd5-f4ef9f83da86",
   "metadata": {},
   "source": [
    "`here the z score is greater than 1.96 , p-value is  less the 0.05 and the confidence interval do not contain the value in the null hypo(i.e 82).thus we reject the ho . there is enough evidence to conclude that the avg calories in a slice bread are not 82.`"
   ]
  },
  {
   "cell_type": "markdown",
   "id": "051fcaeb-4ed4-41a9-bb64-b3f05fd3016b",
   "metadata": {},
   "source": [
    "#### 3. A typhoid vaccine in the market inscribes 3 mg mg of f ascorbic acid in the vaccine. A research team claims that the vaccines contain less than 3 3 mg of acid. We collected the data of 40 vaccines by using random sampling from a population and recorded the amount of ascorbic acid. Test the claim of the research team using the sample data a value (significance level) to 0.05.\n",
    "\n",
    "acid_amt=[2.57, 3.06, 3.28, 3.24, 2.79, 3.48, 3.36, 3.07, 2.46, 3.03, 3.05, 2.94, 3.46, 3.19, 3.09, 2.81, 3.13, 2.88, 2.76, 2.75, 3.17, 2.89, 2.54, 3.18, 3.08, 2.60, 3.06, 3.13, 3.11, 3.08, 2.93, 2.90, 3.06, 2.97, 3.24, 2.86, 2.87, 3.18, 3, 2.95]\n",
    "\n",
    "Let us check the normality of the data."
   ]
  },
  {
   "cell_type": "code",
   "execution_count": 82,
   "id": "efb0674d-0ce2-4ae1-b230-3b98fc4562d4",
   "metadata": {},
   "outputs": [
    {
     "name": "stdout",
     "output_type": "stream",
     "text": [
      "40\n",
      "statistics:0.977\n",
      "p_value:0.588\n",
      "\n",
      "\n",
      "fail to reject the null hypo (h0) :the given value is normally distribution\n"
     ]
    }
   ],
   "source": [
    "from statsmodels.stats import weightstats as stests\n",
    "# it is ho >= 3 :h1 < 3 \n",
    "# hence it is one tail - left\n",
    "# to cal the normality \n",
    "# shapiro test\n",
    "# given alpha is 0.05\n",
    "sample_d=[2.57, 3.06, 3.28, 3.24, 2.79, 3.48, 3.36, 3.07, 2.46, 3.03, 3.05, 2.94, 3.46, 3.19, 3.09, 2.81, 3.13, 2.88, 2.76, 2.75, 3.17, 2.89, 2.54, 3.18, 3.08, 2.60, 3.06, 3.13, 3.11, 3.08, 2.93, 2.90, 3.06, 2.97, 3.24, 2.86, 2.87, 3.18, 3, 2.95]\n",
    "n=len(sample_d)\n",
    "print(n)\n",
    "alpha=0.05\n",
    "stat,p_val=stats.shapiro(sample_d)\n",
    "print(f\"statistics:{round(stat,3)}\")\n",
    "print(f\"p_value:{round(p_val,3)}\")\n",
    "print('\\n')\n",
    "if p_val < 0.05:\n",
    "    print(\"reject the null hypo (h1): the given value is not normally distribution\")\n",
    "else:\n",
    "    print(\"fail to reject the null hypo (h0) :the given value is normally distribution\")"
   ]
  },
  {
   "cell_type": "code",
   "execution_count": 73,
   "id": "d6465a79-3e9a-48b2-95e2-a7f27b669f8e",
   "metadata": {},
   "outputs": [
    {
     "name": "stdout",
     "output_type": "stream",
     "text": [
      "critical value for two-tailed z-test: 1.64\n"
     ]
    }
   ],
   "source": [
    "# have to cal confidence level of 95%\n",
    "# have to find z-level correspondence of the upper tail(q)\n",
    "z_val=np.abs(round(stats.norm.isf(q=0.05),2))# here 0.05/2 no need since one tail\n",
    "# q is taken as 0.05/2 as the given alpha value=0.05\n",
    "print('critical value for two-tailed z-test:',z_val)"
   ]
  },
  {
   "cell_type": "markdown",
   "id": "cc044a24-dc6b-4f00-92e2-9e342fed72c9",
   "metadata": {},
   "source": [
    "`if z is less than -1.64 or greater than 1.64 ,then we reject the null hypothesised\r\n",
    "`"
   ]
  },
  {
   "cell_type": "code",
   "execution_count": 53,
   "id": "5a27e4b1-64bb-4579-9b91-1345c3053b1a",
   "metadata": {},
   "outputs": [
    {
     "name": "stdout",
     "output_type": "stream",
     "text": [
      "z-score: 0.13758139056882976\n"
     ]
    }
   ],
   "source": [
    "#ztest() returns the test statistics and corresponding p-val\n",
    "#pass the sample data"
   ]
  },
  {
   "cell_type": "code",
   "execution_count": 56,
   "id": "01091b2d-0a26-41fc-bd6a-b8fae75186b7",
   "metadata": {},
   "outputs": [
    {
     "name": "stdout",
     "output_type": "stream",
     "text": [
      "p_val: 0.890571263822739\n"
     ]
    }
   ],
   "source": [
    "# to cal the corresponding p_val for the test stat\n",
    "# use cdf to cal p(z<=zscore)\n",
    "#p_val=stats.norm.cdf(-z_score)#try norm.sf(z_score) also gives the same val\n",
    "# for a 2 tail test multily the p_value by 2\n",
    "#req_p=p_val*2\n",
    "#print('p_val:',req_p)\n",
    "z_score,p_val=stats.ztest(x1=)"
   ]
  },
  {
   "cell_type": "code",
   "execution_count": 58,
   "id": "87ed627c-2eaf-45d4-9228-5dc9158e03e0",
   "metadata": {},
   "outputs": [
    {
     "name": "stdout",
     "output_type": "stream",
     "text": [
      "confidence interval: (2.9337707452135584, 3.0762292547864414)\n"
     ]
    }
   ],
   "source": [
    "#cal the 95% confidence interval for pop mean \n",
    "#pass the sample mean to te parameter , 'loc'\n",
    "# pass the scaling factor (pop_std/n^(1/2)) to the parameter,'scale'\n",
    "print(\"confidence interval:\",stats.norm.interval(0.95,loc=samp_mean,scale=pop_std/np.sqrt(n)))"
   ]
  },
  {
   "cell_type": "markdown",
   "id": "80c3e043-88bf-479a-af8a-04da0b0aa54f",
   "metadata": {},
   "source": [
    "`here the z score is greater than 1.96 , p-value is greater the 0.05 and the confidence interval do contain the value in the null hypo(i.e 3).thus we fail to reject the ho . there is enough evidence to conclude that the A typhoid vaccine in the market inscribes 3 mg mg of f ascorbic acid in the vaccine.`"
   ]
  },
  {
   "cell_type": "markdown",
   "id": "c84ae783-9800-4e3a-a9a5-e0bb12ec868e",
   "metadata": {},
   "source": [
    "#### 4) A sample of 900 PVC pipes is found to have an average thickness of 12.5 mm. Can we assume that the sample is coming from a normal population with mean 13 mm against that it is less than 13 mm. The population standard deviation is 1 mm. Test the hypothesis at 5% level of significance."
   ]
  },
  {
   "cell_type": "code",
   "execution_count": 7,
   "id": "105ed829-b543-4bc3-b00a-c98b704c2f4c",
   "metadata": {},
   "outputs": [
    {
     "name": "stdout",
     "output_type": "stream",
     "text": [
      "critical value for two-tailed z-test: 1.64\n"
     ]
    }
   ],
   "source": [
    "# to cal the normality \n",
    "# shapiro test - can't be done hence the sample space is 900\n",
    "# given alpha is 0.05\n",
    "# have to cal confidence level of 95%\n",
    "# have to find z-level correspondence of the upper tail(q)\n",
    "z_val=np.abs(round(stats.norm.isf(q=0.05),2))# here 0.05/2 no need since one tail\n",
    "# q is taken as 0.05/2 as the given alpha value=0.05\n",
    "print('critical value for two-tailed z-test:',z_val)\n"
   ]
  },
  {
   "cell_type": "code",
   "execution_count": null,
   "id": "a670159a-c310-4f26-95b8-4b167154b63a",
   "metadata": {},
   "outputs": [],
   "source": []
  },
  {
   "cell_type": "code",
   "execution_count": null,
   "id": "10872b04-771b-4f10-98b6-e31de3b4c5b6",
   "metadata": {},
   "outputs": [],
   "source": []
  },
  {
   "cell_type": "code",
   "execution_count": null,
   "id": "ff1fa9ef-1f8e-404b-9b7f-cc5fdb1d1327",
   "metadata": {},
   "outputs": [],
   "source": []
  },
  {
   "cell_type": "code",
   "execution_count": null,
   "id": "e6e8293b-658e-41af-a4fb-364142b0d328",
   "metadata": {},
   "outputs": [],
   "source": []
  },
  {
   "cell_type": "code",
   "execution_count": 18,
   "id": "ccac7ade-a454-474c-bc10-5b5c708130d2",
   "metadata": {},
   "outputs": [],
   "source": [
    "## shapiro wilk test\n",
    "import pandas as pd\n",
    "from scipy import stats\n"
   ]
  },
  {
   "cell_type": "code",
   "execution_count": 43,
   "id": "68ebd0ed-07d5-46ae-a8f2-e05ea5dc2a22",
   "metadata": {},
   "outputs": [
    {
     "name": "stdout",
     "output_type": "stream",
     "text": [
      "statistics:0.913\n",
      "p_value:0.377\n",
      "\n",
      "\n",
      "fail to reject the null hypo (h0) :the given value is normally distribution\n"
     ]
    }
   ],
   "source": [
    "data=[45,88,12,44,90,33,56,10]\n",
    "alpha=0.05\n",
    "stat,p_val=stats.shapiro(data)\n",
    "print(f\"statistics:{round(stat,3)}\")\n",
    "print(f\"p_value:{round(p_val,3)}\")\n",
    "print('\\n')\n",
    "if p_val < 0.05:\n",
    "    print(\"reject the null hypo (h1): the given value is not normally distribution\")\n",
    "else:\n",
    "    print(\"fail to reject the null hypo (h0) :the given value is normally distribution\")\n"
   ]
  },
  {
   "cell_type": "code",
   "execution_count": null,
   "id": "86522c84-4304-4118-aa1a-dcecc7ae08ac",
   "metadata": {},
   "outputs": [],
   "source": []
  },
  {
   "cell_type": "markdown",
   "id": "ab3aab4a-29c8-4eeb-b27a-515fc1a7af8d",
   "metadata": {},
   "source": [
    "#### 5. An e-commerce company claims that the mean delivery time of food items on its website in NYC is 60 minutes with a standard deviation of 30 minutes. A random sample of 45 customers ordered from the website, and the average time for delivery was found to be 75 minutes. Is this enough evidence to claim that the average time to get items delivered is more than 60 minutes. (assume the normality of the data). Test the with alpha = 0.05\n",
    "\n",
    "The null and alternative hypothesis is:\n",
    "\n",
    "H 0 dot alpha*mu <= 80\n",
    "\n",
    "H_{1} / mu > 60\n",
    "\n",
    "Here alpha = 0.05 for a one-tailed test calculate the critical z-value."
   ]
  },
  {
   "cell_type": "code",
   "execution_count": null,
   "id": "9112a73f-8dd9-4b18-b090-bd1d8a317396",
   "metadata": {},
   "outputs": [],
   "source": []
  },
  {
   "cell_type": "code",
   "execution_count": null,
   "id": "751db8e6-5690-484d-ab83-0851a6756bbe",
   "metadata": {},
   "outputs": [],
   "source": []
  },
  {
   "cell_type": "code",
   "execution_count": null,
   "id": "5addf170-17c4-4ed0-95a0-f4c4d19f257a",
   "metadata": {},
   "outputs": [],
   "source": []
  },
  {
   "cell_type": "markdown",
   "id": "4b5029a1-9423-47aa-b7c7-eeb7aa39e29c",
   "metadata": {},
   "source": [
    "# interval estimation"
   ]
  },
  {
   "cell_type": "raw",
   "id": "000caf06-282a-4e8a-958a-311166d16aaf",
   "metadata": {},
   "source": [
    " A survey finds that the average monthly spending on groceries is $300 with a standard deviation of $50. For a sample size of 144, compute the 90% confidence interval.50. For a sample size of 144, compute the 90% confidence interval."
   ]
  },
  {
   "cell_type": "code",
   "execution_count": 8,
   "id": "faa5bd19-ff09-4c42-9a72-5ec288c51eff",
   "metadata": {},
   "outputs": [
    {
     "name": "stdout",
     "output_type": "stream",
     "text": [
      "the 90% confidence interval of population mean in  [293.15 306.85]\n"
     ]
    }
   ],
   "source": [
    "# monthly expenditure\n",
    "mean=300\n",
    "std=50\n",
    "sample=144\n",
    "alpha=0.1\n",
    "scale=std/np.sqrt(sample)\n",
    "#number of observations in sample\n",
    "\n",
    "#given population standard deviatio\n",
    "\n",
    "#calculate the 90% confidence intervol\n",
    "\n",
    "#pass the sample mean to the parameter, 'Loc'\n",
    "\n",
    "#pass the scaling factor (std_pop/n^(1/2)) to the parameter, 'scale'\n",
    "\n",
    "interval= stats.norm.interval(0.90, loc= mean, scale = std/np.sqrt(sample))\n",
    "\n",
    "#print the 90% confidence interval\n",
    "\n",
    "#use 'round()' to round-off the value to 2 digits\n",
    "print(\"the 90% confidence interval of population mean in \",np.round(interval,2))"
   ]
  },
  {
   "cell_type": "markdown",
   "id": "74ca8911-b058-4d9f-b00f-0c8e1e908ecb",
   "metadata": {},
   "source": [
    "#### A factory claims its machines produce an average of 200 units per day. After upgrading a machine, a manager tests whether the machine now produces more than 200 units on average. A sample of 30 days’ production is collected\n",
    "\n",
    "production_data = [210, 215, 202, 205, 230, 220, 210, 208, 215, 214,\n",
    "                   218, 220, 225, 222, 210, 219, 218, 230, 240, 235,\n",
    "                   250, 245, 260, 255, 212, 218, 222, 210, 208, 250]"
   ]
  },
  {
   "cell_type": "code",
   "execution_count": 17,
   "id": "a7d4d5c6-f9dd-4f4d-924e-aa3a0b1323f2",
   "metadata": {},
   "outputs": [
    {
     "name": "stdout",
     "output_type": "stream",
     "text": [
      "no. of sample : 30\n",
      "statistics:0.893,p_value:0.006\n",
      "reject the null hypo (h1): machine now produces more than 200 units on average\n"
     ]
    }
   ],
   "source": [
    "# production\n",
    "production_data = [210, 215, 202, 205, 230, 220, 210, 208, 215, 214, 218, 220, 225, 222, 210, 219, 218, 230, 240, 235, 250, 245, 260, 255, 212, 218, 222, 210, 208, 250]\n",
    "# given sample data for 30 days\n",
    "n=len(production_data)\n",
    "print(\"no. of sample :\",n)\n",
    "# if n is >= 30 , then we go with z-test\n",
    "production_mean=200\n",
    "# it is given the average per day is 200 units .so, the mean is 200\n",
    "alpha=0.05\n",
    "# nither confidence interval is given nor the p-value . therefore the default value is considered\n",
    "# as it is not mentioned whether is it normality or not. we are going with shapiro\n",
    "stat,p_val=stats.shapiro(production_data)\n",
    "print(f\"statistics:{round(stat,3)},p_value:{round(p_val,3)}\")\n",
    "# interpretation\n",
    "if p_val < 0.05:\n",
    "    print(\"reject the null hypo (h1): machine now produces more than 200 units on average\")\n",
    "else:\n",
    "    print(\"fail to reject the null hypo (h0) :machine doesn't produces more than 200 units on average\")\n",
    "\n"
   ]
  },
  {
   "cell_type": "markdown",
   "id": "47207b14-9b00-42a9-be5f-f32025c03f7b",
   "metadata": {},
   "source": [
    "# another method"
   ]
  },
  {
   "cell_type": "raw",
   "id": "e5081f11-3912-46ae-a0b9-9dbb9615e238",
   "metadata": {},
   "source": [
    "# production\n",
    "production_data = [210, 215, 202, 205, 230, 220, 210, 208, 215, 214, 218, 220, 225, 222, 210, 219, 218, 230, 240, 235, 250, 245, 260, 255, 212, 218, 222, 210, 208, 250]\n",
    "# given sample data for 30 days\n",
    "n=len(production_data)\n",
    "std=np.std(production_data)\n",
    "print(\"no. of sample :\",n)\n",
    "# if n is >= 30 , then we go with z-test\n",
    "production_mean=200\n",
    "# it is given the average per day is 200 units .so, the mean is 200\n",
    "alpha=0.05\n",
    "# nither confidence interval is given nor the p-value . therefore the default value is considered\n",
    "interval= stats.norm.interval(0.95, loc= production_mean, scale = std/np.sqrt(production_data))\n",
    "#print the 95% confidence interval\n",
    "\n",
    "#use 'round()' to round-off the value to 2 digits\n",
    "print(\"the 95% confidence interval of population mean in \",np.round(interval,2))\n"
   ]
  },
  {
   "cell_type": "markdown",
   "id": "c6f36c1c-1d1d-43d8-93ab-501e29e961bb",
   "metadata": {},
   "source": [
    "Two sales teams claim to have similar sales performances. You want to test whether Team A has significantly greater average weekly sales than Team B.\n",
    "\n",
    "\n",
    "team_a_sales = [550, 600, 580, 590, 605, 620, 630, 615, 610, 620]\n",
    "team_b_sales = [500, 520, 510, 530, 540, 525, 535, 515, 505, 520]"
   ]
  },
  {
   "cell_type": "code",
   "execution_count": 37,
   "id": "e2e6086b-4071-43ab-b521-c67fd5c24235",
   "metadata": {},
   "outputs": [
    {
     "name": "stdout",
     "output_type": "stream",
     "text": [
      "t_statistics:9.642,p_value:1.561707880255758e-08\n",
      "reject the null hypo : there is  significantly difference from each other\n"
     ]
    }
   ],
   "source": [
    "# one - right tail test\n",
    "# independent two test - t test\n",
    "team_a_sales = [550, 600, 580, 590, 605, 620, 630, 615, 610, 620]\n",
    "team_b_sales = [500, 520, 510, 530, 540, 525, 535, 515, 505, 520]\n",
    "# sample data of two teams\n",
    "t_stat,p_val=stats.ttest_ind(team_a_sales,team_b_sales)\n",
    "# to perform indeoendent 2 test\n",
    "print(f\"t_statistics:{round(t_stat,3)},p_value:{p_val}\")\n",
    "# interpretation\n",
    "if p_val < 0.05:\n",
    "    print(\"reject the null hypo : there is  significantly difference from each other\")\n",
    "else:\n",
    "    print(\"fail to reject the null hypo : there is no significant difference from each other\")"
   ]
  },
  {
   "cell_type": "markdown",
   "id": "077c7827-6497-4edf-bb48-4f857b1aefef",
   "metadata": {},
   "source": [
    "Suppose you have a sample of test scores and want to test if the average score is equal to 75. Before performing the Z-test, you need to check if the data follows a normal distribution.\n",
    "\n",
    "Steps to be included :\n",
    "1. Check normality using a Shapiro-Wilk test (a common test for normality).\n",
    "\n",
    "2. Perform the Z-test if the normality assumption holds.\n",
    "\n",
    "\n",
    "Null Hypothesis (H0): The population mean is 75.\n",
    "\n",
    "\n",
    "Alternative Hypothesis (H1): The population mean is not 75 (two-tailed)."
   ]
  },
  {
   "cell_type": "code",
   "execution_count": 50,
   "id": "b9271a37-7165-4cf8-b012-56eefa9d6a38",
   "metadata": {},
   "outputs": [
    {
     "name": "stdout",
     "output_type": "stream",
     "text": [
      "30\n",
      "z_statistics: -0.2915233021459105\n",
      "statistics:0.977,p_value:0.744\n",
      "fail to reject the null hypo (h0) :Null Hypothesis (H0): The population mean is 75.\n"
     ]
    }
   ],
   "source": [
    "# sample test score\n",
    "test_s=np.array([72, 73, 74, 75, 76, 77, 78, 79, 80, 81,70, 71, 72, 73, 74, 75, 76, 77, 78, 79,69, 70, 71, 72, 73, 74, 75, 76, 77, 78])\n",
    "print(len(test_s))\n",
    "# if n is >= 30 , then we go with z-test\n",
    "t_mean=np.mean(test_s)\n",
    "t_std=np.std(test_s)\n",
    "n=30\n",
    "ho=75\n",
    "# it is given the average per day is 200 units .so, the mean is 200\n",
    "alpha=0.05\n",
    "# nither confidence interval is given nor the p-value . therefore the default value is considered\n",
    "# as it is not mentioned whether is it normality or not. we are going with shapiro\n",
    "stat,p_val=stats.shapiro(test_s)\n",
    "# z-test\n",
    "scale= t_std/np.sqrt(n)\n",
    "z_test=(t_mean-ho)/(scale)\n",
    "print('z_statistics:',z_test)\n",
    "# t_stat,p_val\n",
    "print(f\"statistics:{round(stat,3)},p_value:{round(p_val,3)}\")\n",
    "\n",
    "# interpretation\n",
    "if p_val < 0.05:\n",
    "    print(\"reject the null hypo (h1): Alternative Hypothesis (H1): The population mean is not 75 (two-tailed)\")\n",
    "else:\n",
    "    print(\"fail to reject the null hypo (h0) :Null Hypothesis (H0): The population mean is 75.\")\n",
    "\n"
   ]
  },
  {
   "cell_type": "code",
   "execution_count": null,
   "id": "aa6e1df4-6a38-4600-a800-d13cbe240be3",
   "metadata": {},
   "outputs": [],
   "source": []
  },
  {
   "cell_type": "markdown",
   "id": "199006a2-096e-4248-9b2d-a59c0e19abe5",
   "metadata": {},
   "source": [
    "#### You want to compare the average test scores of two classes: Class A and Class B. You randomly sample 30 students from each class and get the following test scores:\n",
    "\n",
    "Class A (30 students): [70, 75, 80, 85, 90, 72, 88, 84, 79, 77, 68, 76, 91, 85, 80, 73, 82, 78, 79, 86, 81, 85, 72, 74, 89, 90, 76, 83, 75, 80]\n",
    "\n",
    "\n",
    "Class B (30 students): [68, 74, 79, 70, 82, 78, 74, 75, 80, 76, 68, 72, 83, 79, 85, 77, 74, 69, 80, 82, 71, 78, 73, 79, 81, 76, 84, 75, 70, 73]\n",
    "\n",
    "\n",
    "Null Hypothesis (H0): The mean test scores of Class A and Class B are equal.\n",
    "\n",
    "\n",
    "Alternative Hypothesis (H1): The mean test scores of Class A and Class B are different"
   ]
  },
  {
   "cell_type": "code",
   "execution_count": 64,
   "id": "d3c7644b-5d43-4054-973d-bd35869addb4",
   "metadata": {},
   "outputs": [
    {
     "name": "stdout",
     "output_type": "stream",
     "text": [
      "count_a:30,count_b:30\n",
      "statistics:2.704,p_value:0.009\n",
      "reject the null hypo (h1):The mean test scores of Class A and Class B are different \n"
     ]
    }
   ],
   "source": [
    "# sample data of 2 classes\n",
    "Class_A =np.array ([70, 75, 80, 85, 90, 72, 88, 84, 79, 77, 68, 76, 91, 85, 80, 73, 82, 78, 79, 86, 81, 85, 72, 74, 89, 90, 76, 83, 75, 80])\n",
    "Class_B =np.array ([68, 74, 79, 70, 82, 78, 74, 75, 80, 76, 68, 72, 83, 79, 85, 77, 74, 69, 80, 82, 71, 78, 73, 79, 81, 76, 84, 75, 70, 73])# to get the no. of samples in the above data\n",
    "print(f\"count_a:{len(Class_A)},count_b:{len(Class_B)}\")\n",
    "# to perform independent 2 test\n",
    "t_stat,p_val=stats.ttest_ind(Class_A,Class_B)\n",
    "# t_stat,p_val\n",
    "print(f\"statistics:{round(t_stat,3)},p_value:{round(p_val,3)}\")\n",
    "\n",
    "# interpretation\n",
    "if p_val < 0.05:\n",
    "    print(\"reject the null hypo (h1):The mean test scores of Class A and Class B are different \")\n",
    "else:\n",
    "    print(\"fail to reject the null hypo (h0) :The mean test scores of Class A and Class B are equal\")\n",
    "\n"
   ]
  },
  {
   "cell_type": "markdown",
   "id": "8095c041-41ea-47dc-b3de-29b70daacb6e",
   "metadata": {},
   "source": [
    "#### You want to compare the average weight loss after 3 months of using two different exercise regimens: Regimen A and Regimen B. You randomly select 50 participants from each regimen and measure their weight loss\n",
    "\n",
    "Regimen A (50 participants): [3.5, 4.0, 3.2, 3.8, 4.3, 3.0, 3.7, 3.5, 4.1, 4.0, 3.9, 3.7, 4.2, 3.8, 3.9, 3.4, 3.3, 3.6, 3.8, 4.0, 3.6, 4.1, 3.7, 3.5, 4.2, 3.8, 3.7, 3.9, 4.0, 4.1, 3.5, 3.6, 3.7, 4.0, 4.1, 3.8, 3.9, 3.6, 4.0, 3.7, 3.5, 4.0, 3.8]\n",
    "\n",
    "\n",
    "Regimen B (50 participants): [4.0, 4.5, 4.2, 4.3, 4.6, 4.4, 4.0, 4.1, 4.2, 4.4, 4.1, 4.3, 4.5, 4.2, 4.6, 4.0, 4.4, 4.2, 4.1, 4.3, 4.4, 4.6, 4.0, 4.2, 4.3, 4.1, 4.5, 4.4, 4.2, 4.1, 4.0, 4.3, 4.5, 4.1, 4.4, 4.2, 4.6, 4.3, 4.4, 4.0, 4.2, 4.1, 4.3, 4.5, 4.4, 4.2, 4.3]\n",
    "\n",
    "\n",
    "\n",
    "Null Hypothesis (H0): The mean weight loss for Regimen A and Regimen B are equal.\n",
    "\n",
    "\n",
    "Alternative Hypothesis (H1): The mean weight loss for Regimen A and Regimen B are different."
   ]
  },
  {
   "cell_type": "code",
   "execution_count": 69,
   "id": "b43f7c30-5ef2-4351-87eb-1957318b7efa",
   "metadata": {},
   "outputs": [
    {
     "name": "stdout",
     "output_type": "stream",
     "text": [
      "count_a:43,count_b:47\n",
      "statistics:-10.058,p_value:2.736122123225712e-16\n",
      "reject the null hypo (h1):The mean weight loss of Regimen_A and Regimen_B are different \n"
     ]
    }
   ],
   "source": [
    "# given sample for 2 regimen\n",
    "Regimen_A=np.array([3.5, 4.0, 3.2, 3.8, 4.3, 3.0, 3.7, 3.5, 4.1, 4.0, 3.9, 3.7, 4.2, 3.8, 3.9, 3.4, 3.3, 3.6, 3.8, 4.0, 3.6, 4.1, 3.7, 3.5, 4.2, 3.8, 3.7, 3.9, 4.0, 4.1, 3.5, 3.6, 3.7, 4.0, 4.1, 3.8, 3.9, 3.6, 4.0, 3.7, 3.5, 4.0, 3.8])\n",
    "\n",
    "Regimen_B=np.array([4.0, 4.5, 4.2, 4.3, 4.6, 4.4, 4.0, 4.1, 4.2, 4.4, 4.1, 4.3, 4.5, 4.2, 4.6, 4.0, 4.4, 4.2, 4.1, 4.3, 4.4, 4.6, 4.0, 4.2, 4.3, 4.1, 4.5, 4.4, 4.2, 4.1, 4.0, 4.3, 4.5, 4.1, 4.4, 4.2, 4.6, 4.3, 4.4, 4.0, 4.2, 4.1, 4.3, 4.5, 4.4, 4.2, 4.3])\n",
    "print(f\"count_a:{len(Regimen_A)},count_b:{len(Regimen_B)}\")\n",
    "# to perform independent 2 test\n",
    "t_stat,p_val=stats.ttest_ind(Regimen_A,Regimen_B)\n",
    "# t_stat,p_val\n",
    "print(f\"statistics:{round(t_stat,3)},p_value:{p_val}\")\n",
    "\n",
    "# interpretation\n",
    "if p_val < 0.05:\n",
    "    print(\"reject the null hypo (h1):The mean weight loss of Regimen_A and Regimen_B are different \")\n",
    "else:\n",
    "    print(\"fail to reject the null hypo (h0) :The mean weight loss of Regimen_A and Regimen_B are equal\")"
   ]
  },
  {
   "cell_type": "markdown",
   "id": "dbf2de9a-4c96-4aaf-ad04-0eb3c897f49a",
   "metadata": {},
   "source": [
    "## Sampling Error for Mean Age in a Population\n",
    "\n",
    "\n",
    "You want to estimate the sampling error for the mean age of a population of 1000 individuals. You randomly sample 50 individuals, and their mean age is 35 years. The population mean age is 37 years, and the standard deviation of the population is 10 years.\n",
    "\n",
    "\n",
    "\n",
    "Population Mean Age: 37 years\n",
    "Sample Mean Age: 35 years\n",
    "Sample Size (n): 50\n",
    "Population Standard Deviation (σ): 10 years"
   ]
  },
  {
   "cell_type": "code",
   "execution_count": 72,
   "id": "2fbd7638-9ef3-4961-93e1-79ddf63887e4",
   "metadata": {},
   "outputs": [
    {
     "name": "stdout",
     "output_type": "stream",
     "text": [
      "sampleing error for mean : 2\n"
     ]
    }
   ],
   "source": [
    "n_data = 1000\n",
    "sample_n=50\n",
    "s_mean=35\n",
    "p_mean=37\n",
    "std=10\n",
    "\n",
    "print(\"sampleing error for mean :\",np.abs(s_mean-p_mean))\n",
    "# cal the sampling error for the mean"
   ]
  },
  {
   "cell_type": "markdown",
   "id": "5c53f684-46db-4750-b1af-68cca72de6c9",
   "metadata": {},
   "source": [
    "## Sampling Error for Proportion in a Population\n",
    "\n",
    "\n",
    "You want to estimate the sampling error for the proportion of people in a population who prefer a certain brand. A sample of 200 people is taken, and 120 people in the sample prefer the brand. The population proportion is 0.65.\n",
    "\n",
    "Population Proportion (p): 0.65\n",
    "Sample Proportion (p̂): 120/200 = 0.60\n",
    "Sample Size (n): 200"
   ]
  },
  {
   "cell_type": "code",
   "execution_count": 79,
   "id": "1385620e-1299-4078-b0be-47d98cbf8430",
   "metadata": {},
   "outputs": [
    {
     "name": "stdout",
     "output_type": "stream",
     "text": [
      "sampleing error for mean : 0.050000000000000044\n"
     ]
    }
   ],
   "source": [
    "#given sample\n",
    "sample_n=200\n",
    "s_proportion=0.60\n",
    "p_proportion=0.65\n",
    "# population mean\n",
    "print(\"sampleing error for mean :\",np.abs(s_proportion-p_proportion))\n",
    "# cal the sampling error for the mean"
   ]
  },
  {
   "cell_type": "markdown",
   "id": "76cb4b96-888d-4708-8e5a-97c76194b5ba",
   "metadata": {},
   "source": [
    "## Estimating Population Mean with a Small Sample\n",
    "\n",
    "\n",
    "You are conducting a survey to estimate the average salary of employees at a small company. The sample consists of 15 employees, and their salaries (in thousands of dollars) are as follows\n",
    "\n",
    "\n",
    "[45,52,48,47,53,49,50,46,51,52,50,48,49,46,45]\n",
    "\n",
    "\n",
    "Use the sample mean as a point estimate for the population mean salary."
   ]
  },
  {
   "cell_type": "code",
   "execution_count": 85,
   "id": "9662903f-dc0d-45d9-a5ee-76b432df6f51",
   "metadata": {},
   "outputs": [
    {
     "name": "stdout",
     "output_type": "stream",
     "text": [
      "the point estimate for the population mean is  48.733333333333334\n"
     ]
    }
   ],
   "source": [
    "salary=[45,52,48,47,53,49,50,46,51,52,50,48,49,46,45]\n",
    "# draw sample for salary without replacement\n",
    "# set random seed to get the same sample each time you run the code\n",
    "random.seed(1)\n",
    "\n",
    "samp_salary=random.sample(population=salary,k=15)\n",
    "samp_mean=np.mean(samp_salary)\n",
    "print(\"the point estimate for the population mean is \",samp_mean)"
   ]
  },
  {
   "cell_type": "markdown",
   "id": "3bae1ad9-2895-47d5-b99a-48ea742877b8",
   "metadata": {},
   "source": [
    "## Estimating Population Proportion with a Small Sample\n",
    "\n",
    "\n",
    "`A researcher conducts a poll of 25 people and finds that 15 out of the 25 people support a certain policy. Estimate the population proportion of support for the policy using the sample proportion.`"
   ]
  },
  {
   "cell_type": "code",
   "execution_count": 1,
   "id": "86890ad5-f788-4223-8def-b044b985ec8f",
   "metadata": {},
   "outputs": [
    {
     "name": "stdout",
     "output_type": "stream",
     "text": [
      "The point estimate of the population proportion is : 0.6\n",
      "The actual population proportion is : 1.6666666666666667\n",
      "The sampling error of the sample proportion is : 1.0666666666666669\n"
     ]
    }
   ],
   "source": [
    "pop=25\n",
    "sample=15\n",
    "# to cal point estimation sample/population\n",
    "ob_proportion=15/25\n",
    "# population proportion is same as sample proportion \n",
    "pop_proportion=25/15\n",
    "#to cal sampling error \n",
    "samp_error=pop_proportion-ob_proportion\n",
    "# interpretation\n",
    "print(\"The point estimate of the population proportion is :\",ob_proportion)\n",
    "print(\"The actual population proportion is :\",pop_proportion)\n",
    "print(\"The sampling error of the sample proportion is :\",samp_error)\n"
   ]
  },
  {
   "cell_type": "raw",
   "id": "f4300b0c-6ea3-450e-bd46-deae19bda718",
   "metadata": {},
   "source": []
  }
 ],
 "metadata": {
  "kernelspec": {
   "display_name": "Python 3 (ipykernel)",
   "language": "python",
   "name": "python3"
  },
  "language_info": {
   "codemirror_mode": {
    "name": "ipython",
    "version": 3
   },
   "file_extension": ".py",
   "mimetype": "text/x-python",
   "name": "python",
   "nbconvert_exporter": "python",
   "pygments_lexer": "ipython3",
   "version": "3.12.4"
  }
 },
 "nbformat": 4,
 "nbformat_minor": 5
}
